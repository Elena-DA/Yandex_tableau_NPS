{
 "cells": [
  {
   "cell_type": "markdown",
   "id": "fbd82890",
   "metadata": {},
   "source": [
    "<div style=\"border:solid lightblue 3px; background:#f7faf8; padding: 20px\">\n",
    "<b>Елена, привет!</b>\n",
    "\n",
    "Меня зовут Владимир Бердников, и я буду проверять твой проект. Предлагаю общаться на «ты», но если это не совсем удобно для тебя — дай знать, и мы перейдем на \"вы\". Моя цель не указать на совершённые тобой ошибки, а поделиться своим опытом и помочь улучшить навыки. \n",
    "    \n",
    "Пожалуйста, не перемещай, не удаляй и не правь мои комментарии. Всё это поможет выполнить повторную проверку твоего проекта оперативнее.\n",
    "\n",
    "При проверке работы я буду отмечать комментарии цветом и примечанием. В конце заголовка комментария указан номер итерации проверки.\n",
    "\n",
    "<div class=\"alert alert-block alert-danger\" style=\"border-radius: 15px; box-shadow: 4px 4px 4px; border: 1px solid \">\n",
    "<h2> Комментарий ревьюера v_1: <a class=\"tocSkip\"></h2>\n",
    "    \n",
    "❌ Комментарии такого цвета нужно исправить, иначе проект не будет принят. \n",
    "</div>\n",
    "\n",
    "<div class=\"alert alert-warning\" style=\"border-radius: 15px; box-shadow: 4px 4px 4px; border: 1px solid \">\n",
    "<h2> Комментарий ревьюера v_1: <a class=\"tocSkip\"> </h2>\n",
    "    \n",
    "⚠️ Такой комментарий является рекомендацией или советом. \n",
    "</div>\n",
    "\n",
    "<div class=\"alert alert-success\" style=\"border-radius: 15px; box-shadow: 4px 4px 4px; border: 1px solid \">\n",
    "<h2> Комментарий ревьюера v_1: <a class=\"tocSkip\"> </h2>\n",
    "    \n",
    "✅ Так выделены все остальные комментарии, включая позитивные моменты, пояснения и рассуждения.\n",
    "</div>  \n",
    "    \n",
    "Давай работать над проектом в диалоге: если ты что-то меняешь в проекте — пиши об этом в комментариях, например, с помощью такого кода в markdown ячейке:"
   ]
  },
  {
   "cell_type": "markdown",
   "id": "c17e6c3c",
   "metadata": {},
   "source": [
    "<div class=\"alert alert-info\"  style=\"border-radius: 15px; box-shadow: 4px 4px 4px; border: 1px solid \">\n",
    "    \n",
    "<h2>Комментарий студента v_1: <a class=\"tocSkip\"> </h2>\n",
    "\n",
    "Ок.   "
   ]
  },
  {
   "cell_type": "markdown",
   "id": "c6b2e560",
   "metadata": {},
   "source": [
    "<div class=\"alert alert-info\"  style=\"border-radius: 15px; box-shadow: 4px 4px 4px; border: 1px solid \">\n",
    "    \n",
    "<h2>Комментарий студента v_1: <a class=\"tocSkip\"> </h2>\n",
    "\n",
    "Привет, Владимир! Очень приятно. Отправляю доработанный проект :)"
   ]
  },
  {
   "cell_type": "markdown",
   "id": "eef1404e",
   "metadata": {},
   "source": [
    "<div style=\"border:solid tomato  2px; padding: 20px\"> \n",
    "\n",
    "# Сборный проект-2\n",
    "\n",
    "**Описание проекта**\n",
    "\n",
    "Заказчик этого исследования — большая телекоммуникационная компания, которая оказывает услуги на территории всего СНГ. Перед компанией стоит задача определить текущий уровень потребительской лояльности, или NPS (от англ. Net Promoter Score), среди клиентов из России.\n",
    "\n",
    "Чтобы определить уровень лояльности, клиентам задавали классический вопрос: «Оцените по шкале от 1 до 10 вероятность того, что вы порекомендуете компанию друзьям и знакомым».\n",
    "\n",
    "Компания провела опрос и попросила подготовить дашборд с его итогами. Большую базу данных для такой задачи разворачивать не стали и выгрузили данные в SQLite.\n",
    "\n",
    "Чтобы оценить результаты опроса, оценки обычно делят на три группы:\n",
    "\n",
    "- 9-10 баллов — «cторонники» (англ. promoters);\n",
    "- 7-8 баллов — «нейтралы» (англ. passives);\n",
    "- 0-6 баллов — «критики» (англ. detractors).\n",
    "\n",
    "Итоговое значение NPS рассчитывается по формуле: `% «сторонников» - % «критиков»`.\n",
    "\n",
    "Таким образом, значение этого показателя варьируется от -100% (когда все клиенты «критики») до 100% (когда все клиенты лояльны к сервису). Но это крайние случаи, которые редко встретишь на практике.\n",
    "\n",
    "Интерпретируя результаты NPS-опросов, следует также помнить, что само значение мало о чём говорит. Однако исследования показывают, что клиенты-сторонники полезны любому бизнесу. Они чаще других повторно совершают покупки, активнее тестируют обновления и приводят в сервис своих друзей и знакомых. Поэтому NPS остаётся одной из важнейших метрик бизнеса.\n",
    "    \n",
    "---\n",
    "\n",
    "**Описание данных**\n",
    "\n",
    "Таблица `user`:\n",
    "\n",
    "Содержит основную информацию о клиентах.\n",
    "    \n",
    "- `user_id` - идентификатор клиента, первичный ключ таблицы\n",
    "- `lt_day` - количество дней «жизни» клиента\n",
    "- `age` - возраст клиента в годах\n",
    "- `gender_segment` - пол клиента (1 – женщина, 0 – мужчина)\n",
    "- `os_name` - тип операционной системы\n",
    "- `cpe_type_name` - тип устройства\n",
    "- `location_id` - идентификатор домашнего региона клиента, внешний ключ, отсылающий к таблице location\n",
    "- `age_gr_id` -\tидентификатор возрастного сегмента клиента, внешний ключ, отсылающий к таблице age_segment\n",
    "- `tr_gr_id` - идентификатор сегмента клиента по объёму потребляемого трафика в месяц, внешний ключ, отсылающий к таблице - `traffic_segment`\n",
    "- `lt_gr_id` - идентификатор сегмента клиента по количеству месяцев «жизни», внешний ключ, отсылающий к таблице lifetime_segment\n",
    "- `nps_score` - оценка клиента в NPS-опросе (от 1 до 10)\n",
    "\n",
    "\n",
    "Таблица `location`:\n",
    "\n",
    "Справочник территорий, в которых телеком-компания оказывает услуги.\n",
    "\n",
    "- `location_id` - идентификатор записи, первичный ключ\n",
    "- `country` - страна\n",
    "- `city` - город\n",
    "\n",
    "Таблица `age_segment`:\n",
    "\n",
    "Данные о возрастных сегментах клиентов.\n",
    "    \n",
    "- `age_gr_id` - идентификатор сегмента, первичный ключ\n",
    "- `bucket_min` - минимальная граница сегмента\n",
    "- `bucket_max` - максимальная граница сегмента\n",
    "- `title` - название сегмента\n",
    "\n",
    "Таблица `traffic_segment`:\n",
    "\n",
    "Данные о выделяемых сегментах по объёму потребляемого трафика.\n",
    "\n",
    "- `tr_gr_id` - идентификатор сегмента, первичный ключ\n",
    "- `bucket_min` - минимальная граница сегмента\n",
    "- `bucket_max` - максимальная граница сегмента\n",
    "- `title` - название сегмента\n",
    "    \n",
    "Таблица `lifetime_segment`:\n",
    "\n",
    "Данные о выделяемых сегментах по количеству месяцев «жизни» клиента — лайфтайму.\n",
    "    \n",
    "- `lt_gr_id` - идентификатор сегмента, первичный ключ\n",
    "- `bucket_min` - минимальная граница сегмента\n",
    "- `bucket_max` - максимальная граница сегмента\n",
    "- `title` - название сегмента\n",
    "\n",
    "---\n",
    "\n",
    "***Цель исследования***\n",
    "\n",
    "1. Исследовать предоставленный набор данных о конференциях, спикерах и аудитории TED\n",
    "2. Создать дашборды в Tableau по изученным особенностям предоставленных материалов\n",
    "3. Подготовить презентацию с составленными дашбордами на слайдах\n",
    "---\n",
    "    \n",
    "***Ход исследования***\n",
    "        \n",
    "**Шаг 1. Подключение к базе**\n",
    "    \n",
    "Прежде чем начать работу, подключаемся к базе данных. Данные выгрузили в SQLite — СУБД, в которой база данных представлена файлом. Для подключения к такой базе достаточно иметь доступ к файлу с расширением .db.\n",
    "\n",
    "**Шаг 2. Выгрузка данных**\n",
    "    \n",
    "Теперь нужно подготовить данные для дашборда. Преобразовывать данные с помощью Python по условиям задания нельзя — нам необходимо использовать только SQL-запросы. \n",
    "Собираем в одну витрину данные из разных таблиц. Эту витрину далее используем для дашборда.\n",
    "    \n",
    "**Шаг 3. Создание дашборда в Tableau**\n",
    "    \n",
    "Построим дашборд, который представит информацию о текущем уровне NPS среди клиентов и покажет, как этот уровень меняется в зависимости от пользовательских признаков. \n",
    "Из дашборда должно быть понятно, какие группы пользователей участвовали в опросе. Важно учесть, что если пользователи какой-то группы преобладают, то это могло отразиться на общем уровне NPS. \n",
    "    \n",
    "**Шаг 4. Ответы на вопросы с помощью дашборда**\n",
    "    \n",
    "Используя дашборд, ответьте на вопросы:\n",
    "    \n",
    "- Как распределены участники опроса по возрасту и полу? Каких пользователей больше: новых или старых? Пользователи из каких городов активнее участвовали в опросе?\n",
    "- Какие группы пользователей наиболее лояльны к сервису? Какие менее?\n",
    "- Какой общий NPS среди всех опрошенных?\n",
    "- Как можно описать клиентов, которые относятся к группе cторонников (англ. promoters)?\n",
    "\n",
    "***Оформление***\n",
    "    \n",
    "Опубликуем дашборд на сайте Tableau Public."
   ]
  },
  {
   "cell_type": "markdown",
   "id": "a3fd4328",
   "metadata": {},
   "source": [
    "## Подключение к базе"
   ]
  },
  {
   "cell_type": "markdown",
   "id": "58bc95ae",
   "metadata": {},
   "source": [
    "**Импортируем библиотеки:**"
   ]
  },
  {
   "cell_type": "code",
   "execution_count": 1,
   "id": "e5c10a93",
   "metadata": {},
   "outputs": [],
   "source": [
    "import os\n",
    "import pandas as pd\n",
    "from sqlalchemy import create_engine"
   ]
  },
  {
   "cell_type": "markdown",
   "id": "fb7fe1f8",
   "metadata": {},
   "source": [
    "**Подключаемся к базе данных:**"
   ]
  },
  {
   "cell_type": "code",
   "execution_count": 2,
   "id": "753839b8",
   "metadata": {},
   "outputs": [],
   "source": [
    "path_to_db_local = 'C:/Users/etols/Downloads/telecomm_csi.db'\n",
    "path_to_db_platform = '/datasets/telecomm_csi.db'\n",
    "path_to_db = None\n",
    "\n",
    "if os.path.exists(path_to_db_local):\n",
    "    path_to_db = path_to_db_local\n",
    "elif os.path.exists(path_to_db_platform):\n",
    "    path_to_db = path_to_db_platform\n",
    "else:\n",
    "    raise Exception('Файл с базой данных SQLite не найден!')\n",
    "\n",
    "if path_to_db:\n",
    "    engine = create_engine(f'sqlite:///{path_to_db}', echo=False)"
   ]
  },
  {
   "cell_type": "markdown",
   "id": "5a69ac81",
   "metadata": {},
   "source": [
    "**Посмотрим, какие таблицы представлены у нас в данных, выгрузим по 10 строк из каждой:**"
   ]
  },
  {
   "cell_type": "code",
   "execution_count": 3,
   "id": "c7208951",
   "metadata": {},
   "outputs": [
    {
     "data": {
      "text/html": [
       "<div>\n",
       "<style scoped>\n",
       "    .dataframe tbody tr th:only-of-type {\n",
       "        vertical-align: middle;\n",
       "    }\n",
       "\n",
       "    .dataframe tbody tr th {\n",
       "        vertical-align: top;\n",
       "    }\n",
       "\n",
       "    .dataframe thead th {\n",
       "        text-align: right;\n",
       "    }\n",
       "</style>\n",
       "<table border=\"1\" class=\"dataframe\">\n",
       "  <thead>\n",
       "    <tr style=\"text-align: right;\">\n",
       "      <th></th>\n",
       "      <th>user_id</th>\n",
       "      <th>lt_day</th>\n",
       "      <th>age</th>\n",
       "      <th>gender_segment</th>\n",
       "      <th>os_name</th>\n",
       "      <th>cpe_type_name</th>\n",
       "      <th>location_id</th>\n",
       "      <th>age_gr_id</th>\n",
       "      <th>tr_gr_id</th>\n",
       "      <th>lt_gr_id</th>\n",
       "      <th>nps_score</th>\n",
       "    </tr>\n",
       "  </thead>\n",
       "  <tbody>\n",
       "    <tr>\n",
       "      <th>0</th>\n",
       "      <td>A001A2</td>\n",
       "      <td>2320</td>\n",
       "      <td>45.0</td>\n",
       "      <td>1.0</td>\n",
       "      <td>ANDROID</td>\n",
       "      <td>SMARTPHONE</td>\n",
       "      <td>55</td>\n",
       "      <td>5</td>\n",
       "      <td>5</td>\n",
       "      <td>8</td>\n",
       "      <td>10</td>\n",
       "    </tr>\n",
       "    <tr>\n",
       "      <th>1</th>\n",
       "      <td>A001WF</td>\n",
       "      <td>2344</td>\n",
       "      <td>53.0</td>\n",
       "      <td>0.0</td>\n",
       "      <td>ANDROID</td>\n",
       "      <td>SMARTPHONE</td>\n",
       "      <td>21</td>\n",
       "      <td>5</td>\n",
       "      <td>5</td>\n",
       "      <td>8</td>\n",
       "      <td>10</td>\n",
       "    </tr>\n",
       "    <tr>\n",
       "      <th>2</th>\n",
       "      <td>A003Q7</td>\n",
       "      <td>467</td>\n",
       "      <td>57.0</td>\n",
       "      <td>0.0</td>\n",
       "      <td>ANDROID</td>\n",
       "      <td>SMARTPHONE</td>\n",
       "      <td>28</td>\n",
       "      <td>6</td>\n",
       "      <td>9</td>\n",
       "      <td>6</td>\n",
       "      <td>10</td>\n",
       "    </tr>\n",
       "    <tr>\n",
       "      <th>3</th>\n",
       "      <td>A004TB</td>\n",
       "      <td>4190</td>\n",
       "      <td>44.0</td>\n",
       "      <td>1.0</td>\n",
       "      <td>IOS</td>\n",
       "      <td>SMARTPHONE</td>\n",
       "      <td>38</td>\n",
       "      <td>4</td>\n",
       "      <td>4</td>\n",
       "      <td>8</td>\n",
       "      <td>10</td>\n",
       "    </tr>\n",
       "    <tr>\n",
       "      <th>4</th>\n",
       "      <td>A004XT</td>\n",
       "      <td>1163</td>\n",
       "      <td>24.0</td>\n",
       "      <td>0.0</td>\n",
       "      <td>ANDROID</td>\n",
       "      <td>SMARTPHONE</td>\n",
       "      <td>39</td>\n",
       "      <td>2</td>\n",
       "      <td>6</td>\n",
       "      <td>8</td>\n",
       "      <td>10</td>\n",
       "    </tr>\n",
       "    <tr>\n",
       "      <th>5</th>\n",
       "      <td>A005O0</td>\n",
       "      <td>5501</td>\n",
       "      <td>42.0</td>\n",
       "      <td>1.0</td>\n",
       "      <td>ANDROID</td>\n",
       "      <td>SMARTPHONE</td>\n",
       "      <td>34</td>\n",
       "      <td>4</td>\n",
       "      <td>6</td>\n",
       "      <td>8</td>\n",
       "      <td>6</td>\n",
       "    </tr>\n",
       "    <tr>\n",
       "      <th>6</th>\n",
       "      <td>A0061R</td>\n",
       "      <td>1236</td>\n",
       "      <td>45.0</td>\n",
       "      <td>0.0</td>\n",
       "      <td>ANDROID</td>\n",
       "      <td>SMARTPHONE</td>\n",
       "      <td>55</td>\n",
       "      <td>5</td>\n",
       "      <td>7</td>\n",
       "      <td>8</td>\n",
       "      <td>10</td>\n",
       "    </tr>\n",
       "    <tr>\n",
       "      <th>7</th>\n",
       "      <td>A009KS</td>\n",
       "      <td>313</td>\n",
       "      <td>35.0</td>\n",
       "      <td>0.0</td>\n",
       "      <td>ANDROID</td>\n",
       "      <td>SMARTPHONE</td>\n",
       "      <td>28</td>\n",
       "      <td>4</td>\n",
       "      <td>14</td>\n",
       "      <td>5</td>\n",
       "      <td>10</td>\n",
       "    </tr>\n",
       "    <tr>\n",
       "      <th>8</th>\n",
       "      <td>A00AES</td>\n",
       "      <td>3238</td>\n",
       "      <td>36.0</td>\n",
       "      <td>1.0</td>\n",
       "      <td>ANDROID</td>\n",
       "      <td>SMARTPHONE</td>\n",
       "      <td>41</td>\n",
       "      <td>4</td>\n",
       "      <td>5</td>\n",
       "      <td>8</td>\n",
       "      <td>10</td>\n",
       "    </tr>\n",
       "    <tr>\n",
       "      <th>9</th>\n",
       "      <td>A00F70</td>\n",
       "      <td>4479</td>\n",
       "      <td>54.0</td>\n",
       "      <td>1.0</td>\n",
       "      <td>ANDROID</td>\n",
       "      <td>SMARTPHONE</td>\n",
       "      <td>9</td>\n",
       "      <td>5</td>\n",
       "      <td>8</td>\n",
       "      <td>8</td>\n",
       "      <td>9</td>\n",
       "    </tr>\n",
       "  </tbody>\n",
       "</table>\n",
       "</div>"
      ],
      "text/plain": [
       "  user_id  lt_day   age  gender_segment  os_name cpe_type_name  location_id  \\\n",
       "0  A001A2    2320  45.0             1.0  ANDROID    SMARTPHONE           55   \n",
       "1  A001WF    2344  53.0             0.0  ANDROID    SMARTPHONE           21   \n",
       "2  A003Q7     467  57.0             0.0  ANDROID    SMARTPHONE           28   \n",
       "3  A004TB    4190  44.0             1.0      IOS    SMARTPHONE           38   \n",
       "4  A004XT    1163  24.0             0.0  ANDROID    SMARTPHONE           39   \n",
       "5  A005O0    5501  42.0             1.0  ANDROID    SMARTPHONE           34   \n",
       "6  A0061R    1236  45.0             0.0  ANDROID    SMARTPHONE           55   \n",
       "7  A009KS     313  35.0             0.0  ANDROID    SMARTPHONE           28   \n",
       "8  A00AES    3238  36.0             1.0  ANDROID    SMARTPHONE           41   \n",
       "9  A00F70    4479  54.0             1.0  ANDROID    SMARTPHONE            9   \n",
       "\n",
       "   age_gr_id  tr_gr_id  lt_gr_id  nps_score  \n",
       "0          5         5         8         10  \n",
       "1          5         5         8         10  \n",
       "2          6         9         6         10  \n",
       "3          4         4         8         10  \n",
       "4          2         6         8         10  \n",
       "5          4         6         8          6  \n",
       "6          5         7         8         10  \n",
       "7          4        14         5         10  \n",
       "8          4         5         8         10  \n",
       "9          5         8         8          9  "
      ]
     },
     "execution_count": 3,
     "metadata": {},
     "output_type": "execute_result"
    }
   ],
   "source": [
    "query = \"\"\"\n",
    "    SELECT *\n",
    "    FROM user\n",
    "    LIMIT 10;\n",
    "    \"\"\"\n",
    "user = pd.read_sql(query, engine)\n",
    "user"
   ]
  },
  {
   "cell_type": "code",
   "execution_count": 4,
   "id": "298b23e2",
   "metadata": {},
   "outputs": [
    {
     "data": {
      "text/html": [
       "<div>\n",
       "<style scoped>\n",
       "    .dataframe tbody tr th:only-of-type {\n",
       "        vertical-align: middle;\n",
       "    }\n",
       "\n",
       "    .dataframe tbody tr th {\n",
       "        vertical-align: top;\n",
       "    }\n",
       "\n",
       "    .dataframe thead th {\n",
       "        text-align: right;\n",
       "    }\n",
       "</style>\n",
       "<table border=\"1\" class=\"dataframe\">\n",
       "  <thead>\n",
       "    <tr style=\"text-align: right;\">\n",
       "      <th></th>\n",
       "      <th>location_id</th>\n",
       "      <th>city</th>\n",
       "      <th>country</th>\n",
       "    </tr>\n",
       "  </thead>\n",
       "  <tbody>\n",
       "    <tr>\n",
       "      <th>0</th>\n",
       "      <td>1</td>\n",
       "      <td>Архангельск</td>\n",
       "      <td>Россия</td>\n",
       "    </tr>\n",
       "    <tr>\n",
       "      <th>1</th>\n",
       "      <td>2</td>\n",
       "      <td>Астрахань</td>\n",
       "      <td>Россия</td>\n",
       "    </tr>\n",
       "    <tr>\n",
       "      <th>2</th>\n",
       "      <td>3</td>\n",
       "      <td>Балашиха</td>\n",
       "      <td>Россия</td>\n",
       "    </tr>\n",
       "    <tr>\n",
       "      <th>3</th>\n",
       "      <td>4</td>\n",
       "      <td>Барнаул</td>\n",
       "      <td>Россия</td>\n",
       "    </tr>\n",
       "    <tr>\n",
       "      <th>4</th>\n",
       "      <td>5</td>\n",
       "      <td>Белгород</td>\n",
       "      <td>Россия</td>\n",
       "    </tr>\n",
       "    <tr>\n",
       "      <th>5</th>\n",
       "      <td>6</td>\n",
       "      <td>Брянск</td>\n",
       "      <td>Россия</td>\n",
       "    </tr>\n",
       "    <tr>\n",
       "      <th>6</th>\n",
       "      <td>7</td>\n",
       "      <td>Владивосток</td>\n",
       "      <td>Россия</td>\n",
       "    </tr>\n",
       "    <tr>\n",
       "      <th>7</th>\n",
       "      <td>8</td>\n",
       "      <td>Владимир</td>\n",
       "      <td>Россия</td>\n",
       "    </tr>\n",
       "    <tr>\n",
       "      <th>8</th>\n",
       "      <td>9</td>\n",
       "      <td>Волгоград</td>\n",
       "      <td>Россия</td>\n",
       "    </tr>\n",
       "    <tr>\n",
       "      <th>9</th>\n",
       "      <td>10</td>\n",
       "      <td>Волжский</td>\n",
       "      <td>Россия</td>\n",
       "    </tr>\n",
       "  </tbody>\n",
       "</table>\n",
       "</div>"
      ],
      "text/plain": [
       "   location_id         city country\n",
       "0            1  Архангельск  Россия\n",
       "1            2    Астрахань  Россия\n",
       "2            3     Балашиха  Россия\n",
       "3            4      Барнаул  Россия\n",
       "4            5     Белгород  Россия\n",
       "5            6       Брянск  Россия\n",
       "6            7  Владивосток  Россия\n",
       "7            8     Владимир  Россия\n",
       "8            9    Волгоград  Россия\n",
       "9           10     Волжский  Россия"
      ]
     },
     "execution_count": 4,
     "metadata": {},
     "output_type": "execute_result"
    }
   ],
   "source": [
    "query = \"\"\"\n",
    "    SELECT *\n",
    "    FROM location\n",
    "    LIMIT 10;\n",
    "    \"\"\"\n",
    "location = pd.read_sql(query, engine)\n",
    "location"
   ]
  },
  {
   "cell_type": "code",
   "execution_count": 5,
   "id": "d9c99427",
   "metadata": {},
   "outputs": [
    {
     "data": {
      "text/html": [
       "<div>\n",
       "<style scoped>\n",
       "    .dataframe tbody tr th:only-of-type {\n",
       "        vertical-align: middle;\n",
       "    }\n",
       "\n",
       "    .dataframe tbody tr th {\n",
       "        vertical-align: top;\n",
       "    }\n",
       "\n",
       "    .dataframe thead th {\n",
       "        text-align: right;\n",
       "    }\n",
       "</style>\n",
       "<table border=\"1\" class=\"dataframe\">\n",
       "  <thead>\n",
       "    <tr style=\"text-align: right;\">\n",
       "      <th></th>\n",
       "      <th>age_gr_id</th>\n",
       "      <th>bucket_min</th>\n",
       "      <th>bucket_max</th>\n",
       "      <th>title</th>\n",
       "    </tr>\n",
       "  </thead>\n",
       "  <tbody>\n",
       "    <tr>\n",
       "      <th>0</th>\n",
       "      <td>1</td>\n",
       "      <td>NaN</td>\n",
       "      <td>15.0</td>\n",
       "      <td>01 до 16</td>\n",
       "    </tr>\n",
       "    <tr>\n",
       "      <th>1</th>\n",
       "      <td>2</td>\n",
       "      <td>16.0</td>\n",
       "      <td>24.0</td>\n",
       "      <td>02 16-24</td>\n",
       "    </tr>\n",
       "    <tr>\n",
       "      <th>2</th>\n",
       "      <td>3</td>\n",
       "      <td>25.0</td>\n",
       "      <td>34.0</td>\n",
       "      <td>03 25-34</td>\n",
       "    </tr>\n",
       "    <tr>\n",
       "      <th>3</th>\n",
       "      <td>4</td>\n",
       "      <td>35.0</td>\n",
       "      <td>44.0</td>\n",
       "      <td>04 35-44</td>\n",
       "    </tr>\n",
       "    <tr>\n",
       "      <th>4</th>\n",
       "      <td>5</td>\n",
       "      <td>45.0</td>\n",
       "      <td>54.0</td>\n",
       "      <td>05 45-54</td>\n",
       "    </tr>\n",
       "    <tr>\n",
       "      <th>5</th>\n",
       "      <td>6</td>\n",
       "      <td>55.0</td>\n",
       "      <td>64.0</td>\n",
       "      <td>06 55-64</td>\n",
       "    </tr>\n",
       "    <tr>\n",
       "      <th>6</th>\n",
       "      <td>7</td>\n",
       "      <td>66.0</td>\n",
       "      <td>NaN</td>\n",
       "      <td>07 66 +</td>\n",
       "    </tr>\n",
       "    <tr>\n",
       "      <th>7</th>\n",
       "      <td>8</td>\n",
       "      <td>NaN</td>\n",
       "      <td>NaN</td>\n",
       "      <td>08 n/a</td>\n",
       "    </tr>\n",
       "  </tbody>\n",
       "</table>\n",
       "</div>"
      ],
      "text/plain": [
       "   age_gr_id  bucket_min  bucket_max     title\n",
       "0          1         NaN        15.0  01 до 16\n",
       "1          2        16.0        24.0  02 16-24\n",
       "2          3        25.0        34.0  03 25-34\n",
       "3          4        35.0        44.0  04 35-44\n",
       "4          5        45.0        54.0  05 45-54\n",
       "5          6        55.0        64.0  06 55-64\n",
       "6          7        66.0         NaN   07 66 +\n",
       "7          8         NaN         NaN    08 n/a"
      ]
     },
     "execution_count": 5,
     "metadata": {},
     "output_type": "execute_result"
    }
   ],
   "source": [
    "query = \"\"\"\n",
    "    SELECT *\n",
    "    FROM age_segment\n",
    "    LIMIT 10;\n",
    "    \"\"\"\n",
    "age_segment = pd.read_sql(query, engine)\n",
    "age_segment"
   ]
  },
  {
   "cell_type": "code",
   "execution_count": 6,
   "id": "ff54e5f6",
   "metadata": {},
   "outputs": [
    {
     "data": {
      "text/html": [
       "<div>\n",
       "<style scoped>\n",
       "    .dataframe tbody tr th:only-of-type {\n",
       "        vertical-align: middle;\n",
       "    }\n",
       "\n",
       "    .dataframe tbody tr th {\n",
       "        vertical-align: top;\n",
       "    }\n",
       "\n",
       "    .dataframe thead th {\n",
       "        text-align: right;\n",
       "    }\n",
       "</style>\n",
       "<table border=\"1\" class=\"dataframe\">\n",
       "  <thead>\n",
       "    <tr style=\"text-align: right;\">\n",
       "      <th></th>\n",
       "      <th>age_gr_id</th>\n",
       "      <th>bucket_min</th>\n",
       "      <th>bucket_max</th>\n",
       "      <th>title</th>\n",
       "    </tr>\n",
       "  </thead>\n",
       "  <tbody>\n",
       "    <tr>\n",
       "      <th>0</th>\n",
       "      <td>1</td>\n",
       "      <td>NaN</td>\n",
       "      <td>15.0</td>\n",
       "      <td>01 до 16</td>\n",
       "    </tr>\n",
       "    <tr>\n",
       "      <th>1</th>\n",
       "      <td>2</td>\n",
       "      <td>16.0</td>\n",
       "      <td>24.0</td>\n",
       "      <td>02 16-24</td>\n",
       "    </tr>\n",
       "    <tr>\n",
       "      <th>2</th>\n",
       "      <td>3</td>\n",
       "      <td>25.0</td>\n",
       "      <td>34.0</td>\n",
       "      <td>03 25-34</td>\n",
       "    </tr>\n",
       "    <tr>\n",
       "      <th>3</th>\n",
       "      <td>4</td>\n",
       "      <td>35.0</td>\n",
       "      <td>44.0</td>\n",
       "      <td>04 35-44</td>\n",
       "    </tr>\n",
       "    <tr>\n",
       "      <th>4</th>\n",
       "      <td>5</td>\n",
       "      <td>45.0</td>\n",
       "      <td>54.0</td>\n",
       "      <td>05 45-54</td>\n",
       "    </tr>\n",
       "    <tr>\n",
       "      <th>5</th>\n",
       "      <td>6</td>\n",
       "      <td>55.0</td>\n",
       "      <td>64.0</td>\n",
       "      <td>06 55-64</td>\n",
       "    </tr>\n",
       "    <tr>\n",
       "      <th>6</th>\n",
       "      <td>7</td>\n",
       "      <td>66.0</td>\n",
       "      <td>NaN</td>\n",
       "      <td>07 66 +</td>\n",
       "    </tr>\n",
       "    <tr>\n",
       "      <th>7</th>\n",
       "      <td>8</td>\n",
       "      <td>NaN</td>\n",
       "      <td>NaN</td>\n",
       "      <td>08 n/a</td>\n",
       "    </tr>\n",
       "  </tbody>\n",
       "</table>\n",
       "</div>"
      ],
      "text/plain": [
       "   age_gr_id  bucket_min  bucket_max     title\n",
       "0          1         NaN        15.0  01 до 16\n",
       "1          2        16.0        24.0  02 16-24\n",
       "2          3        25.0        34.0  03 25-34\n",
       "3          4        35.0        44.0  04 35-44\n",
       "4          5        45.0        54.0  05 45-54\n",
       "5          6        55.0        64.0  06 55-64\n",
       "6          7        66.0         NaN   07 66 +\n",
       "7          8         NaN         NaN    08 n/a"
      ]
     },
     "execution_count": 6,
     "metadata": {},
     "output_type": "execute_result"
    }
   ],
   "source": [
    "query = \"\"\"\n",
    "    SELECT *\n",
    "    FROM age_segment\n",
    "    LIMIT 10;\n",
    "    \"\"\"\n",
    "age_example = pd.read_sql(query, engine)\n",
    "age_example"
   ]
  },
  {
   "cell_type": "code",
   "execution_count": 7,
   "id": "439ab3eb",
   "metadata": {},
   "outputs": [
    {
     "data": {
      "text/html": [
       "<div>\n",
       "<style scoped>\n",
       "    .dataframe tbody tr th:only-of-type {\n",
       "        vertical-align: middle;\n",
       "    }\n",
       "\n",
       "    .dataframe tbody tr th {\n",
       "        vertical-align: top;\n",
       "    }\n",
       "\n",
       "    .dataframe thead th {\n",
       "        text-align: right;\n",
       "    }\n",
       "</style>\n",
       "<table border=\"1\" class=\"dataframe\">\n",
       "  <thead>\n",
       "    <tr style=\"text-align: right;\">\n",
       "      <th></th>\n",
       "      <th>tr_gr_id</th>\n",
       "      <th>bucket_min</th>\n",
       "      <th>bucket_max</th>\n",
       "      <th>title</th>\n",
       "    </tr>\n",
       "  </thead>\n",
       "  <tbody>\n",
       "    <tr>\n",
       "      <th>0</th>\n",
       "      <td>1</td>\n",
       "      <td>0.00</td>\n",
       "      <td>0.00</td>\n",
       "      <td>01 0</td>\n",
       "    </tr>\n",
       "    <tr>\n",
       "      <th>1</th>\n",
       "      <td>2</td>\n",
       "      <td>0.00</td>\n",
       "      <td>0.01</td>\n",
       "      <td>01 0-0.01</td>\n",
       "    </tr>\n",
       "    <tr>\n",
       "      <th>2</th>\n",
       "      <td>3</td>\n",
       "      <td>0.01</td>\n",
       "      <td>0.10</td>\n",
       "      <td>02 0.01-0.1</td>\n",
       "    </tr>\n",
       "    <tr>\n",
       "      <th>3</th>\n",
       "      <td>4</td>\n",
       "      <td>0.10</td>\n",
       "      <td>1.00</td>\n",
       "      <td>03 0.1-1</td>\n",
       "    </tr>\n",
       "    <tr>\n",
       "      <th>4</th>\n",
       "      <td>5</td>\n",
       "      <td>1.00</td>\n",
       "      <td>5.00</td>\n",
       "      <td>04 1-5</td>\n",
       "    </tr>\n",
       "    <tr>\n",
       "      <th>5</th>\n",
       "      <td>6</td>\n",
       "      <td>5.00</td>\n",
       "      <td>10.00</td>\n",
       "      <td>05 5-10</td>\n",
       "    </tr>\n",
       "    <tr>\n",
       "      <th>6</th>\n",
       "      <td>7</td>\n",
       "      <td>10.00</td>\n",
       "      <td>15.00</td>\n",
       "      <td>06 10-15</td>\n",
       "    </tr>\n",
       "    <tr>\n",
       "      <th>7</th>\n",
       "      <td>8</td>\n",
       "      <td>15.00</td>\n",
       "      <td>20.00</td>\n",
       "      <td>07 15-20</td>\n",
       "    </tr>\n",
       "    <tr>\n",
       "      <th>8</th>\n",
       "      <td>9</td>\n",
       "      <td>20.00</td>\n",
       "      <td>25.00</td>\n",
       "      <td>08 20-25</td>\n",
       "    </tr>\n",
       "    <tr>\n",
       "      <th>9</th>\n",
       "      <td>10</td>\n",
       "      <td>25.00</td>\n",
       "      <td>30.00</td>\n",
       "      <td>09 25-30</td>\n",
       "    </tr>\n",
       "  </tbody>\n",
       "</table>\n",
       "</div>"
      ],
      "text/plain": [
       "   tr_gr_id  bucket_min  bucket_max        title\n",
       "0         1        0.00        0.00         01 0\n",
       "1         2        0.00        0.01    01 0-0.01\n",
       "2         3        0.01        0.10  02 0.01-0.1\n",
       "3         4        0.10        1.00     03 0.1-1\n",
       "4         5        1.00        5.00       04 1-5\n",
       "5         6        5.00       10.00      05 5-10\n",
       "6         7       10.00       15.00     06 10-15\n",
       "7         8       15.00       20.00     07 15-20\n",
       "8         9       20.00       25.00     08 20-25\n",
       "9        10       25.00       30.00     09 25-30"
      ]
     },
     "execution_count": 7,
     "metadata": {},
     "output_type": "execute_result"
    }
   ],
   "source": [
    "query = \"\"\"\n",
    "    SELECT *\n",
    "    FROM traffic_segment\n",
    "    LIMIT 10;\n",
    "    \"\"\"\n",
    "traffic_segment = pd.read_sql(query, engine)\n",
    "traffic_segment"
   ]
  },
  {
   "cell_type": "code",
   "execution_count": 8,
   "id": "7dc3be93",
   "metadata": {},
   "outputs": [
    {
     "data": {
      "text/html": [
       "<div>\n",
       "<style scoped>\n",
       "    .dataframe tbody tr th:only-of-type {\n",
       "        vertical-align: middle;\n",
       "    }\n",
       "\n",
       "    .dataframe tbody tr th {\n",
       "        vertical-align: top;\n",
       "    }\n",
       "\n",
       "    .dataframe thead th {\n",
       "        text-align: right;\n",
       "    }\n",
       "</style>\n",
       "<table border=\"1\" class=\"dataframe\">\n",
       "  <thead>\n",
       "    <tr style=\"text-align: right;\">\n",
       "      <th></th>\n",
       "      <th>lt_gr_id</th>\n",
       "      <th>bucket_min</th>\n",
       "      <th>bucket_max</th>\n",
       "      <th>title</th>\n",
       "    </tr>\n",
       "  </thead>\n",
       "  <tbody>\n",
       "    <tr>\n",
       "      <th>0</th>\n",
       "      <td>1</td>\n",
       "      <td>1.0</td>\n",
       "      <td>1.0</td>\n",
       "      <td>01 1</td>\n",
       "    </tr>\n",
       "    <tr>\n",
       "      <th>1</th>\n",
       "      <td>2</td>\n",
       "      <td>2.0</td>\n",
       "      <td>2.0</td>\n",
       "      <td>02 2</td>\n",
       "    </tr>\n",
       "    <tr>\n",
       "      <th>2</th>\n",
       "      <td>3</td>\n",
       "      <td>3.0</td>\n",
       "      <td>3.0</td>\n",
       "      <td>03 3</td>\n",
       "    </tr>\n",
       "    <tr>\n",
       "      <th>3</th>\n",
       "      <td>4</td>\n",
       "      <td>4.0</td>\n",
       "      <td>6.0</td>\n",
       "      <td>04 4-6</td>\n",
       "    </tr>\n",
       "    <tr>\n",
       "      <th>4</th>\n",
       "      <td>5</td>\n",
       "      <td>7.0</td>\n",
       "      <td>12.0</td>\n",
       "      <td>05 7-12</td>\n",
       "    </tr>\n",
       "    <tr>\n",
       "      <th>5</th>\n",
       "      <td>6</td>\n",
       "      <td>13.0</td>\n",
       "      <td>24.0</td>\n",
       "      <td>06 13-24</td>\n",
       "    </tr>\n",
       "    <tr>\n",
       "      <th>6</th>\n",
       "      <td>7</td>\n",
       "      <td>25.0</td>\n",
       "      <td>36.0</td>\n",
       "      <td>07 25-36</td>\n",
       "    </tr>\n",
       "    <tr>\n",
       "      <th>7</th>\n",
       "      <td>8</td>\n",
       "      <td>36.0</td>\n",
       "      <td>NaN</td>\n",
       "      <td>08 36+</td>\n",
       "    </tr>\n",
       "  </tbody>\n",
       "</table>\n",
       "</div>"
      ],
      "text/plain": [
       "   lt_gr_id  bucket_min  bucket_max     title\n",
       "0         1         1.0         1.0      01 1\n",
       "1         2         2.0         2.0      02 2\n",
       "2         3         3.0         3.0      03 3\n",
       "3         4         4.0         6.0    04 4-6\n",
       "4         5         7.0        12.0   05 7-12\n",
       "5         6        13.0        24.0  06 13-24\n",
       "6         7        25.0        36.0  07 25-36\n",
       "7         8        36.0         NaN    08 36+"
      ]
     },
     "execution_count": 8,
     "metadata": {},
     "output_type": "execute_result"
    }
   ],
   "source": [
    "query = \"\"\"\n",
    "    SELECT *\n",
    "    FROM lifetime_segment\n",
    "    LIMIT 10;\n",
    "    \"\"\"\n",
    "lifetime_segment = pd.read_sql(query, engine)\n",
    "lifetime_segment"
   ]
  },
  {
   "cell_type": "markdown",
   "id": "d12a37e9",
   "metadata": {},
   "source": [
    "**Сформируем запрос с нулевыми значениями, попробуем посмотреть, в каких строках есть пропуски**"
   ]
  },
  {
   "cell_type": "code",
   "execution_count": 9,
   "id": "88e00aa9",
   "metadata": {},
   "outputs": [
    {
     "data": {
      "text/html": [
       "<div>\n",
       "<style scoped>\n",
       "    .dataframe tbody tr th:only-of-type {\n",
       "        vertical-align: middle;\n",
       "    }\n",
       "\n",
       "    .dataframe tbody tr th {\n",
       "        vertical-align: top;\n",
       "    }\n",
       "\n",
       "    .dataframe thead th {\n",
       "        text-align: right;\n",
       "    }\n",
       "</style>\n",
       "<table border=\"1\" class=\"dataframe\">\n",
       "  <thead>\n",
       "    <tr style=\"text-align: right;\">\n",
       "      <th></th>\n",
       "      <th>user_id</th>\n",
       "      <th>lt_day</th>\n",
       "      <th>age</th>\n",
       "      <th>gender_segment</th>\n",
       "      <th>os_name</th>\n",
       "      <th>cpe_type_name</th>\n",
       "      <th>location_id</th>\n",
       "      <th>age_gr_id</th>\n",
       "      <th>tr_gr_id</th>\n",
       "      <th>lt_gr_id</th>\n",
       "      <th>nps_score</th>\n",
       "    </tr>\n",
       "  </thead>\n",
       "  <tbody>\n",
       "    <tr>\n",
       "      <th>0</th>\n",
       "      <td>A1E59W</td>\n",
       "      <td>4055</td>\n",
       "      <td>NaN</td>\n",
       "      <td>None</td>\n",
       "      <td>ANDROID</td>\n",
       "      <td>SMARTPHONE</td>\n",
       "      <td>13</td>\n",
       "      <td>8</td>\n",
       "      <td>5</td>\n",
       "      <td>8</td>\n",
       "      <td>1</td>\n",
       "    </tr>\n",
       "    <tr>\n",
       "      <th>1</th>\n",
       "      <td>A1S6VL</td>\n",
       "      <td>335</td>\n",
       "      <td>40.0</td>\n",
       "      <td>None</td>\n",
       "      <td>ANDROID</td>\n",
       "      <td>TABLET</td>\n",
       "      <td>14</td>\n",
       "      <td>4</td>\n",
       "      <td>8</td>\n",
       "      <td>5</td>\n",
       "      <td>8</td>\n",
       "    </tr>\n",
       "    <tr>\n",
       "      <th>2</th>\n",
       "      <td>A28ZDT</td>\n",
       "      <td>4243</td>\n",
       "      <td>NaN</td>\n",
       "      <td>None</td>\n",
       "      <td>ANDROID</td>\n",
       "      <td>SMARTPHONE</td>\n",
       "      <td>56</td>\n",
       "      <td>8</td>\n",
       "      <td>5</td>\n",
       "      <td>8</td>\n",
       "      <td>5</td>\n",
       "    </tr>\n",
       "    <tr>\n",
       "      <th>3</th>\n",
       "      <td>A2GLPQ</td>\n",
       "      <td>2354</td>\n",
       "      <td>NaN</td>\n",
       "      <td>None</td>\n",
       "      <td>ANDROID</td>\n",
       "      <td>SMARTPHONE</td>\n",
       "      <td>16</td>\n",
       "      <td>8</td>\n",
       "      <td>7</td>\n",
       "      <td>8</td>\n",
       "      <td>1</td>\n",
       "    </tr>\n",
       "    <tr>\n",
       "      <th>4</th>\n",
       "      <td>A3XMNW</td>\n",
       "      <td>41</td>\n",
       "      <td>32.0</td>\n",
       "      <td>None</td>\n",
       "      <td>ANDROID</td>\n",
       "      <td>SMARTPHONE</td>\n",
       "      <td>41</td>\n",
       "      <td>3</td>\n",
       "      <td>4</td>\n",
       "      <td>2</td>\n",
       "      <td>1</td>\n",
       "    </tr>\n",
       "    <tr>\n",
       "      <th>5</th>\n",
       "      <td>A41C1K</td>\n",
       "      <td>557</td>\n",
       "      <td>NaN</td>\n",
       "      <td>None</td>\n",
       "      <td>ANDROID</td>\n",
       "      <td>SMARTPHONE</td>\n",
       "      <td>38</td>\n",
       "      <td>8</td>\n",
       "      <td>5</td>\n",
       "      <td>6</td>\n",
       "      <td>3</td>\n",
       "    </tr>\n",
       "    <tr>\n",
       "      <th>6</th>\n",
       "      <td>A4590P</td>\n",
       "      <td>94</td>\n",
       "      <td>27.0</td>\n",
       "      <td>None</td>\n",
       "      <td>ANDROID</td>\n",
       "      <td>SMARTPHONE</td>\n",
       "      <td>28</td>\n",
       "      <td>3</td>\n",
       "      <td>6</td>\n",
       "      <td>4</td>\n",
       "      <td>10</td>\n",
       "    </tr>\n",
       "    <tr>\n",
       "      <th>7</th>\n",
       "      <td>A48OT7</td>\n",
       "      <td>61</td>\n",
       "      <td>33.0</td>\n",
       "      <td>None</td>\n",
       "      <td>ANDROID</td>\n",
       "      <td>SMARTPHONE</td>\n",
       "      <td>28</td>\n",
       "      <td>3</td>\n",
       "      <td>12</td>\n",
       "      <td>3</td>\n",
       "      <td>9</td>\n",
       "    </tr>\n",
       "    <tr>\n",
       "      <th>8</th>\n",
       "      <td>A4T128</td>\n",
       "      <td>76</td>\n",
       "      <td>38.0</td>\n",
       "      <td>None</td>\n",
       "      <td>ANDROID</td>\n",
       "      <td>SMARTPHONE</td>\n",
       "      <td>28</td>\n",
       "      <td>4</td>\n",
       "      <td>7</td>\n",
       "      <td>3</td>\n",
       "      <td>10</td>\n",
       "    </tr>\n",
       "    <tr>\n",
       "      <th>9</th>\n",
       "      <td>A513VG</td>\n",
       "      <td>4705</td>\n",
       "      <td>NaN</td>\n",
       "      <td>None</td>\n",
       "      <td>IOS</td>\n",
       "      <td>SMARTPHONE</td>\n",
       "      <td>13</td>\n",
       "      <td>8</td>\n",
       "      <td>24</td>\n",
       "      <td>8</td>\n",
       "      <td>9</td>\n",
       "    </tr>\n",
       "  </tbody>\n",
       "</table>\n",
       "</div>"
      ],
      "text/plain": [
       "  user_id  lt_day   age gender_segment  os_name cpe_type_name  location_id  \\\n",
       "0  A1E59W    4055   NaN           None  ANDROID    SMARTPHONE           13   \n",
       "1  A1S6VL     335  40.0           None  ANDROID        TABLET           14   \n",
       "2  A28ZDT    4243   NaN           None  ANDROID    SMARTPHONE           56   \n",
       "3  A2GLPQ    2354   NaN           None  ANDROID    SMARTPHONE           16   \n",
       "4  A3XMNW      41  32.0           None  ANDROID    SMARTPHONE           41   \n",
       "5  A41C1K     557   NaN           None  ANDROID    SMARTPHONE           38   \n",
       "6  A4590P      94  27.0           None  ANDROID    SMARTPHONE           28   \n",
       "7  A48OT7      61  33.0           None  ANDROID    SMARTPHONE           28   \n",
       "8  A4T128      76  38.0           None  ANDROID    SMARTPHONE           28   \n",
       "9  A513VG    4705   NaN           None      IOS    SMARTPHONE           13   \n",
       "\n",
       "   age_gr_id  tr_gr_id  lt_gr_id  nps_score  \n",
       "0          8         5         8          1  \n",
       "1          4         8         5          8  \n",
       "2          8         5         8          5  \n",
       "3          8         7         8          1  \n",
       "4          3         4         2          1  \n",
       "5          8         5         6          3  \n",
       "6          3         6         4         10  \n",
       "7          3        12         3          9  \n",
       "8          4         7         3         10  \n",
       "9          8        24         8          9  "
      ]
     },
     "execution_count": 9,
     "metadata": {},
     "output_type": "execute_result"
    }
   ],
   "source": [
    "query = \"\"\"\n",
    "    SELECT *\n",
    "    FROM user\n",
    "    WHERE user_id IS NULL\n",
    "    OR lt_day IS NULL\n",
    "    OR age IS NULL\n",
    "    OR gender_segment IS NULL\n",
    "    OR os_name IS NULL\n",
    "    OR cpe_type_name IS NULL\n",
    "    OR location_id IS NULL\n",
    "    OR age_gr_id IS NULL\n",
    "    OR tr_gr_id IS NULL\n",
    "    OR lt_gr_id IS NULL\n",
    "    OR nps_score IS NULL\n",
    "    LIMIT 10;\n",
    "    \"\"\"\n",
    "user_nulls = pd.read_sql(query, engine)\n",
    "user_nulls"
   ]
  },
  {
   "cell_type": "markdown",
   "id": "4a73bd0a",
   "metadata": {},
   "source": [
    "**Обращаем внимание на то, что пропуски обнаружились в столбце `age`, в столбце `gender_segment` нулевые значения не обнаружились, и значение `None` не является пропуском. Однако значение `None` также непоказательно для нашего исследования, как и пропуски.**"
   ]
  },
  {
   "cell_type": "markdown",
   "id": "84c1518f",
   "metadata": {},
   "source": [
    "**Посчитаем общее количество строк в таблице user.**"
   ]
  },
  {
   "cell_type": "code",
   "execution_count": 10,
   "id": "dd6c7185",
   "metadata": {},
   "outputs": [
    {
     "data": {
      "text/html": [
       "<div>\n",
       "<style scoped>\n",
       "    .dataframe tbody tr th:only-of-type {\n",
       "        vertical-align: middle;\n",
       "    }\n",
       "\n",
       "    .dataframe tbody tr th {\n",
       "        vertical-align: top;\n",
       "    }\n",
       "\n",
       "    .dataframe thead th {\n",
       "        text-align: right;\n",
       "    }\n",
       "</style>\n",
       "<table border=\"1\" class=\"dataframe\">\n",
       "  <thead>\n",
       "    <tr style=\"text-align: right;\">\n",
       "      <th></th>\n",
       "      <th>COUNT(*)</th>\n",
       "    </tr>\n",
       "  </thead>\n",
       "  <tbody>\n",
       "    <tr>\n",
       "      <th>0</th>\n",
       "      <td>502493</td>\n",
       "    </tr>\n",
       "  </tbody>\n",
       "</table>\n",
       "</div>"
      ],
      "text/plain": [
       "   COUNT(*)\n",
       "0    502493"
      ]
     },
     "execution_count": 10,
     "metadata": {},
     "output_type": "execute_result"
    }
   ],
   "source": [
    "query = \"\"\"\n",
    "    SELECT COUNT(*)\n",
    "    FROM user\n",
    "    \"\"\"\n",
    "user_count = pd.read_sql(query, engine)\n",
    "user_count"
   ]
  },
  {
   "cell_type": "markdown",
   "id": "51181374",
   "metadata": {},
   "source": [
    "**Посчитаем количество строк с пустыми значениями.**"
   ]
  },
  {
   "cell_type": "code",
   "execution_count": 11,
   "id": "b2d4f965",
   "metadata": {},
   "outputs": [
    {
     "data": {
      "text/html": [
       "<div>\n",
       "<style scoped>\n",
       "    .dataframe tbody tr th:only-of-type {\n",
       "        vertical-align: middle;\n",
       "    }\n",
       "\n",
       "    .dataframe tbody tr th {\n",
       "        vertical-align: top;\n",
       "    }\n",
       "\n",
       "    .dataframe thead th {\n",
       "        text-align: right;\n",
       "    }\n",
       "</style>\n",
       "<table border=\"1\" class=\"dataframe\">\n",
       "  <thead>\n",
       "    <tr style=\"text-align: right;\">\n",
       "      <th></th>\n",
       "      <th>COUNT(*)</th>\n",
       "    </tr>\n",
       "  </thead>\n",
       "  <tbody>\n",
       "    <tr>\n",
       "      <th>0</th>\n",
       "      <td>1341</td>\n",
       "    </tr>\n",
       "  </tbody>\n",
       "</table>\n",
       "</div>"
      ],
      "text/plain": [
       "   COUNT(*)\n",
       "0      1341"
      ]
     },
     "execution_count": 11,
     "metadata": {},
     "output_type": "execute_result"
    }
   ],
   "source": [
    "query = \"\"\"\n",
    "    SELECT COUNT(*)\n",
    "    FROM user\n",
    "    WHERE user_id IS NULL\n",
    "    OR lt_day IS NULL\n",
    "    OR age IS NULL\n",
    "    OR gender_segment IS NULL\n",
    "    OR os_name IS NULL\n",
    "    OR cpe_type_name IS NULL\n",
    "    OR location_id IS NULL\n",
    "    OR age_gr_id IS NULL\n",
    "    OR tr_gr_id IS NULL\n",
    "    OR lt_gr_id IS NULL\n",
    "    OR nps_score IS NULL;\n",
    "    \"\"\"\n",
    "user_nulls_count = pd.read_sql(query, engine)\n",
    "user_nulls_count"
   ]
  },
  {
   "cell_type": "markdown",
   "id": "2044c8aa",
   "metadata": {},
   "source": [
    "**Доля пропущенных значений от общего числа: 1341/502493 = 0,3%, что составляет менее 1%. На наше исследование они не влияют.**"
   ]
  },
  {
   "cell_type": "markdown",
   "id": "2415da19",
   "metadata": {},
   "source": [
    "<div class=\"alert alert-info\"  style=\"border-radius: 15px; box-shadow: 4px 4px 4px; border: 1px solid \">\n",
    "    \n",
    "<h2>Комментарий студента v_1: <a class=\"tocSkip\"> </h2>\n",
    "\n",
    "Добавила несколько проверок на аномальные значения и неявные дубликаты. "
   ]
  },
  {
   "cell_type": "markdown",
   "id": "9606246a",
   "metadata": {},
   "source": [
    "**Проверим, есть ли в столбцах аномальные значения, например, в столбце с количеством дней `lt_day` проверим отрицательные или нулевые значения.**"
   ]
  },
  {
   "cell_type": "code",
   "execution_count": 12,
   "id": "9299d71d",
   "metadata": {},
   "outputs": [
    {
     "data": {
      "text/html": [
       "<div>\n",
       "<style scoped>\n",
       "    .dataframe tbody tr th:only-of-type {\n",
       "        vertical-align: middle;\n",
       "    }\n",
       "\n",
       "    .dataframe tbody tr th {\n",
       "        vertical-align: top;\n",
       "    }\n",
       "\n",
       "    .dataframe thead th {\n",
       "        text-align: right;\n",
       "    }\n",
       "</style>\n",
       "<table border=\"1\" class=\"dataframe\">\n",
       "  <thead>\n",
       "    <tr style=\"text-align: right;\">\n",
       "      <th></th>\n",
       "      <th>lt_day</th>\n",
       "    </tr>\n",
       "  </thead>\n",
       "  <tbody>\n",
       "    <tr>\n",
       "      <th>0</th>\n",
       "      <td>-8</td>\n",
       "    </tr>\n",
       "    <tr>\n",
       "      <th>1</th>\n",
       "      <td>-2</td>\n",
       "    </tr>\n",
       "    <tr>\n",
       "      <th>2</th>\n",
       "      <td>-4</td>\n",
       "    </tr>\n",
       "    <tr>\n",
       "      <th>3</th>\n",
       "      <td>-21</td>\n",
       "    </tr>\n",
       "    <tr>\n",
       "      <th>4</th>\n",
       "      <td>0</td>\n",
       "    </tr>\n",
       "    <tr>\n",
       "      <th>5</th>\n",
       "      <td>-13</td>\n",
       "    </tr>\n",
       "    <tr>\n",
       "      <th>6</th>\n",
       "      <td>0</td>\n",
       "    </tr>\n",
       "    <tr>\n",
       "      <th>7</th>\n",
       "      <td>-13</td>\n",
       "    </tr>\n",
       "    <tr>\n",
       "      <th>8</th>\n",
       "      <td>-6</td>\n",
       "    </tr>\n",
       "    <tr>\n",
       "      <th>9</th>\n",
       "      <td>-12</td>\n",
       "    </tr>\n",
       "    <tr>\n",
       "      <th>10</th>\n",
       "      <td>-11</td>\n",
       "    </tr>\n",
       "    <tr>\n",
       "      <th>11</th>\n",
       "      <td>0</td>\n",
       "    </tr>\n",
       "    <tr>\n",
       "      <th>12</th>\n",
       "      <td>-13</td>\n",
       "    </tr>\n",
       "    <tr>\n",
       "      <th>13</th>\n",
       "      <td>-1</td>\n",
       "    </tr>\n",
       "    <tr>\n",
       "      <th>14</th>\n",
       "      <td>-12</td>\n",
       "    </tr>\n",
       "    <tr>\n",
       "      <th>15</th>\n",
       "      <td>0</td>\n",
       "    </tr>\n",
       "    <tr>\n",
       "      <th>16</th>\n",
       "      <td>-7</td>\n",
       "    </tr>\n",
       "  </tbody>\n",
       "</table>\n",
       "</div>"
      ],
      "text/plain": [
       "    lt_day\n",
       "0       -8\n",
       "1       -2\n",
       "2       -4\n",
       "3      -21\n",
       "4        0\n",
       "5      -13\n",
       "6        0\n",
       "7      -13\n",
       "8       -6\n",
       "9      -12\n",
       "10     -11\n",
       "11       0\n",
       "12     -13\n",
       "13      -1\n",
       "14     -12\n",
       "15       0\n",
       "16      -7"
      ]
     },
     "execution_count": 12,
     "metadata": {},
     "output_type": "execute_result"
    }
   ],
   "source": [
    "query = \"\"\"\n",
    "    SELECT lt_day\n",
    "    FROM user\n",
    "    WHERE lt_day <= 0;\n",
    "    \"\"\"\n",
    "lt_day = pd.read_sql(query, engine)\n",
    "lt_day"
   ]
  },
  {
   "cell_type": "code",
   "execution_count": 13,
   "id": "53da959d",
   "metadata": {},
   "outputs": [
    {
     "data": {
      "text/html": [
       "<div>\n",
       "<style scoped>\n",
       "    .dataframe tbody tr th:only-of-type {\n",
       "        vertical-align: middle;\n",
       "    }\n",
       "\n",
       "    .dataframe tbody tr th {\n",
       "        vertical-align: top;\n",
       "    }\n",
       "\n",
       "    .dataframe thead th {\n",
       "        text-align: right;\n",
       "    }\n",
       "</style>\n",
       "<table border=\"1\" class=\"dataframe\">\n",
       "  <thead>\n",
       "    <tr style=\"text-align: right;\">\n",
       "      <th></th>\n",
       "      <th>COUNT(lt_day)</th>\n",
       "    </tr>\n",
       "  </thead>\n",
       "  <tbody>\n",
       "    <tr>\n",
       "      <th>0</th>\n",
       "      <td>17</td>\n",
       "    </tr>\n",
       "  </tbody>\n",
       "</table>\n",
       "</div>"
      ],
      "text/plain": [
       "   COUNT(lt_day)\n",
       "0             17"
      ]
     },
     "execution_count": 13,
     "metadata": {},
     "output_type": "execute_result"
    }
   ],
   "source": [
    "query = \"\"\"\n",
    "    SELECT COUNT(lt_day)\n",
    "    FROM user\n",
    "    WHERE lt_day <= 0;\n",
    "    \"\"\"\n",
    "lt_day_count = pd.read_sql(query, engine)\n",
    "lt_day_count"
   ]
  },
  {
   "cell_type": "markdown",
   "id": "aef93518",
   "metadata": {},
   "source": [
    "**Таких значений всего 17, при составлении общего запроса эти значения будем исключать из выборки.**"
   ]
  },
  {
   "cell_type": "markdown",
   "id": "5a41a57d",
   "metadata": {},
   "source": [
    "**Также проверим отрицательные значения в столбце с возрастом `age`.**"
   ]
  },
  {
   "cell_type": "code",
   "execution_count": 14,
   "id": "a9670452",
   "metadata": {},
   "outputs": [
    {
     "data": {
      "text/html": [
       "<div>\n",
       "<style scoped>\n",
       "    .dataframe tbody tr th:only-of-type {\n",
       "        vertical-align: middle;\n",
       "    }\n",
       "\n",
       "    .dataframe tbody tr th {\n",
       "        vertical-align: top;\n",
       "    }\n",
       "\n",
       "    .dataframe thead th {\n",
       "        text-align: right;\n",
       "    }\n",
       "</style>\n",
       "<table border=\"1\" class=\"dataframe\">\n",
       "  <thead>\n",
       "    <tr style=\"text-align: right;\">\n",
       "      <th></th>\n",
       "      <th>age</th>\n",
       "    </tr>\n",
       "  </thead>\n",
       "  <tbody>\n",
       "  </tbody>\n",
       "</table>\n",
       "</div>"
      ],
      "text/plain": [
       "Empty DataFrame\n",
       "Columns: [age]\n",
       "Index: []"
      ]
     },
     "execution_count": 14,
     "metadata": {},
     "output_type": "execute_result"
    }
   ],
   "source": [
    "query = \"\"\"\n",
    "    SELECT DISTINCT(age)\n",
    "    FROM user\n",
    "    WHERE age <= 0;\n",
    "    \"\"\"\n",
    "age = pd.read_sql(query, engine)\n",
    "age"
   ]
  },
  {
   "cell_type": "markdown",
   "id": "14d0ec4e",
   "metadata": {},
   "source": [
    "**Также проверим сразу, нет ли лишних значений в столбце `nps_score` кроме тех, которые используют для оценки потребительской лояльности, т.е. от 1 до 10.**"
   ]
  },
  {
   "cell_type": "code",
   "execution_count": 15,
   "id": "555137bf",
   "metadata": {},
   "outputs": [
    {
     "data": {
      "text/html": [
       "<div>\n",
       "<style scoped>\n",
       "    .dataframe tbody tr th:only-of-type {\n",
       "        vertical-align: middle;\n",
       "    }\n",
       "\n",
       "    .dataframe tbody tr th {\n",
       "        vertical-align: top;\n",
       "    }\n",
       "\n",
       "    .dataframe thead th {\n",
       "        text-align: right;\n",
       "    }\n",
       "</style>\n",
       "<table border=\"1\" class=\"dataframe\">\n",
       "  <thead>\n",
       "    <tr style=\"text-align: right;\">\n",
       "      <th></th>\n",
       "      <th>nps_score</th>\n",
       "    </tr>\n",
       "  </thead>\n",
       "  <tbody>\n",
       "    <tr>\n",
       "      <th>0</th>\n",
       "      <td>1</td>\n",
       "    </tr>\n",
       "    <tr>\n",
       "      <th>1</th>\n",
       "      <td>2</td>\n",
       "    </tr>\n",
       "    <tr>\n",
       "      <th>2</th>\n",
       "      <td>3</td>\n",
       "    </tr>\n",
       "    <tr>\n",
       "      <th>3</th>\n",
       "      <td>4</td>\n",
       "    </tr>\n",
       "    <tr>\n",
       "      <th>4</th>\n",
       "      <td>5</td>\n",
       "    </tr>\n",
       "    <tr>\n",
       "      <th>5</th>\n",
       "      <td>6</td>\n",
       "    </tr>\n",
       "    <tr>\n",
       "      <th>6</th>\n",
       "      <td>7</td>\n",
       "    </tr>\n",
       "    <tr>\n",
       "      <th>7</th>\n",
       "      <td>8</td>\n",
       "    </tr>\n",
       "    <tr>\n",
       "      <th>8</th>\n",
       "      <td>9</td>\n",
       "    </tr>\n",
       "    <tr>\n",
       "      <th>9</th>\n",
       "      <td>10</td>\n",
       "    </tr>\n",
       "  </tbody>\n",
       "</table>\n",
       "</div>"
      ],
      "text/plain": [
       "   nps_score\n",
       "0          1\n",
       "1          2\n",
       "2          3\n",
       "3          4\n",
       "4          5\n",
       "5          6\n",
       "6          7\n",
       "7          8\n",
       "8          9\n",
       "9         10"
      ]
     },
     "execution_count": 15,
     "metadata": {},
     "output_type": "execute_result"
    }
   ],
   "source": [
    "query = \"\"\"\n",
    "    SELECT DISTINCT(nps_score)\n",
    "    FROM user\n",
    "    ORDER BY nps_score;\n",
    "    \"\"\"\n",
    "dist_nps = pd.read_sql(query, engine)\n",
    "dist_nps"
   ]
  },
  {
   "cell_type": "markdown",
   "id": "fd78fe02",
   "metadata": {},
   "source": [
    "**Также проверим явные дубликаты в столбце `city`.**"
   ]
  },
  {
   "cell_type": "code",
   "execution_count": 16,
   "id": "a2e165c0",
   "metadata": {},
   "outputs": [
    {
     "data": {
      "text/html": [
       "<div>\n",
       "<style scoped>\n",
       "    .dataframe tbody tr th:only-of-type {\n",
       "        vertical-align: middle;\n",
       "    }\n",
       "\n",
       "    .dataframe tbody tr th {\n",
       "        vertical-align: top;\n",
       "    }\n",
       "\n",
       "    .dataframe thead th {\n",
       "        text-align: right;\n",
       "    }\n",
       "</style>\n",
       "<table border=\"1\" class=\"dataframe\">\n",
       "  <thead>\n",
       "    <tr style=\"text-align: right;\">\n",
       "      <th></th>\n",
       "      <th>city</th>\n",
       "    </tr>\n",
       "  </thead>\n",
       "  <tbody>\n",
       "  </tbody>\n",
       "</table>\n",
       "</div>"
      ],
      "text/plain": [
       "Empty DataFrame\n",
       "Columns: [city]\n",
       "Index: []"
      ]
     },
     "execution_count": 16,
     "metadata": {},
     "output_type": "execute_result"
    }
   ],
   "source": [
    "query = \"\"\"\n",
    "    SELECT DISTINCT(city)\n",
    "    FROM location\n",
    "    GROUP BY city\n",
    "    HAVING COUNT(1) > 1;\n",
    "    \"\"\"\n",
    "city_dubs = pd.read_sql(query, engine)\n",
    "city_dubs"
   ]
  },
  {
   "cell_type": "markdown",
   "id": "df292db2",
   "metadata": {},
   "source": [
    "**Теперь посмотрим, есть ли неявные дубликаты в столбце `city` или какие-то ошибочные значения.**"
   ]
  },
  {
   "cell_type": "code",
   "execution_count": 17,
   "id": "d55783ad",
   "metadata": {},
   "outputs": [
    {
     "data": {
      "text/plain": [
       "['Архангельск',\n",
       " 'Астрахань',\n",
       " 'Балашиха',\n",
       " 'Барнаул',\n",
       " 'Белгород',\n",
       " 'Брянск',\n",
       " 'Владивосток',\n",
       " 'Владимир',\n",
       " 'Волгоград',\n",
       " 'Волжский',\n",
       " 'Воронеж',\n",
       " 'Грозный',\n",
       " 'Екатеринбург',\n",
       " 'Иваново',\n",
       " 'Ижевск',\n",
       " 'Иркутск',\n",
       " 'Казань',\n",
       " 'Калининград',\n",
       " 'Калуга',\n",
       " 'Кемерово',\n",
       " 'Киров',\n",
       " 'Краснодар',\n",
       " 'Красноярск',\n",
       " 'Курск',\n",
       " 'Липецк',\n",
       " 'Магнитогорск',\n",
       " 'Махачкала',\n",
       " 'Москва',\n",
       " 'НабережныеЧелны',\n",
       " 'НижнийНовгород',\n",
       " 'НижнийТагил',\n",
       " 'Новокузнецк',\n",
       " 'Новосибирск',\n",
       " 'Омск',\n",
       " 'Оренбург',\n",
       " 'Пенза',\n",
       " 'Пермь',\n",
       " 'РостовнаДону',\n",
       " 'Рязань',\n",
       " 'Самара',\n",
       " 'СанктПетербург',\n",
       " 'Саранск',\n",
       " 'Саратов',\n",
       " 'Смоленск',\n",
       " 'Сочи',\n",
       " 'Ставрополь',\n",
       " 'Сургут',\n",
       " 'Тверь',\n",
       " 'Тольятти',\n",
       " 'Томск',\n",
       " 'Тула',\n",
       " 'Тюмень',\n",
       " 'УланУдэ',\n",
       " 'Ульяновск',\n",
       " 'Уфа',\n",
       " 'Хабаровск',\n",
       " 'Чебоксары',\n",
       " 'Челябинск',\n",
       " 'Череповец',\n",
       " 'Чита',\n",
       " 'Якутск',\n",
       " 'Ярославль']"
      ]
     },
     "execution_count": 17,
     "metadata": {},
     "output_type": "execute_result"
    }
   ],
   "source": [
    "query = \"\"\"\n",
    "    SELECT DISTINCT(city)\n",
    "    FROM location\n",
    "    GROUP BY city\n",
    "    HAVING COUNT(city);\n",
    "    \"\"\"\n",
    "city_unique = pd.read_sql(query, engine)\n",
    "list(city_unique['city'])"
   ]
  },
  {
   "cell_type": "markdown",
   "id": "11c4f370",
   "metadata": {},
   "source": [
    "**В списке городов неявных дубликатов не выявлено.**"
   ]
  },
  {
   "cell_type": "markdown",
   "id": "132bce7e",
   "metadata": {},
   "source": [
    "## Выгрузка данных"
   ]
  },
  {
   "cell_type": "markdown",
   "id": "de1f8b2e",
   "metadata": {},
   "source": [
    "Теперь подготовим данные для дашборда с помощью SQL-запросов. Нам нужно собрать в одну витрину данные из разных таблиц. Эту витрину мы будем использовать для дашборда.\n",
    "\n",
    "Определить, является ли клиент новым, можно по количеству дней «жизни». Такой показатель ещё называют лайфтайм. Его отсчитывают с момента совершения важного события для бизнеса, например покупки сим-карты для телеком-компании. Клиента считают новым, если количество дней «жизни» составляет не более 365 дней."
   ]
  },
  {
   "cell_type": "code",
   "execution_count": 18,
   "id": "8541ab16",
   "metadata": {
    "scrolled": true
   },
   "outputs": [
    {
     "data": {
      "text/html": [
       "<div>\n",
       "<style scoped>\n",
       "    .dataframe tbody tr th:only-of-type {\n",
       "        vertical-align: middle;\n",
       "    }\n",
       "\n",
       "    .dataframe tbody tr th {\n",
       "        vertical-align: top;\n",
       "    }\n",
       "\n",
       "    .dataframe thead th {\n",
       "        text-align: right;\n",
       "    }\n",
       "</style>\n",
       "<table border=\"1\" class=\"dataframe\">\n",
       "  <thead>\n",
       "    <tr style=\"text-align: right;\">\n",
       "      <th></th>\n",
       "      <th>user_id</th>\n",
       "      <th>lt_day</th>\n",
       "      <th>is_new</th>\n",
       "      <th>age</th>\n",
       "      <th>gender_segment</th>\n",
       "      <th>os_name</th>\n",
       "      <th>cpe_type_name</th>\n",
       "      <th>country</th>\n",
       "      <th>city</th>\n",
       "      <th>age_segment</th>\n",
       "      <th>traffic_segment</th>\n",
       "      <th>lifetime_segment</th>\n",
       "      <th>nps_score</th>\n",
       "      <th>nps_group</th>\n",
       "    </tr>\n",
       "  </thead>\n",
       "  <tbody>\n",
       "    <tr>\n",
       "      <th>0</th>\n",
       "      <td>A001A2</td>\n",
       "      <td>2320</td>\n",
       "      <td>старый</td>\n",
       "      <td>45.0</td>\n",
       "      <td>женщина</td>\n",
       "      <td>ANDROID</td>\n",
       "      <td>SMARTPHONE</td>\n",
       "      <td>Россия</td>\n",
       "      <td>Уфа</td>\n",
       "      <td>45-54</td>\n",
       "      <td>1-5</td>\n",
       "      <td>36+</td>\n",
       "      <td>10</td>\n",
       "      <td>сторонники</td>\n",
       "    </tr>\n",
       "    <tr>\n",
       "      <th>1</th>\n",
       "      <td>A001WF</td>\n",
       "      <td>2344</td>\n",
       "      <td>старый</td>\n",
       "      <td>53.0</td>\n",
       "      <td>мужчина</td>\n",
       "      <td>ANDROID</td>\n",
       "      <td>SMARTPHONE</td>\n",
       "      <td>Россия</td>\n",
       "      <td>Киров</td>\n",
       "      <td>45-54</td>\n",
       "      <td>1-5</td>\n",
       "      <td>36+</td>\n",
       "      <td>10</td>\n",
       "      <td>сторонники</td>\n",
       "    </tr>\n",
       "    <tr>\n",
       "      <th>2</th>\n",
       "      <td>A003Q7</td>\n",
       "      <td>467</td>\n",
       "      <td>старый</td>\n",
       "      <td>57.0</td>\n",
       "      <td>мужчина</td>\n",
       "      <td>ANDROID</td>\n",
       "      <td>SMARTPHONE</td>\n",
       "      <td>Россия</td>\n",
       "      <td>Москва</td>\n",
       "      <td>55-64</td>\n",
       "      <td>20-25</td>\n",
       "      <td>13-24</td>\n",
       "      <td>10</td>\n",
       "      <td>сторонники</td>\n",
       "    </tr>\n",
       "    <tr>\n",
       "      <th>3</th>\n",
       "      <td>A004TB</td>\n",
       "      <td>4190</td>\n",
       "      <td>старый</td>\n",
       "      <td>44.0</td>\n",
       "      <td>женщина</td>\n",
       "      <td>IOS</td>\n",
       "      <td>SMARTPHONE</td>\n",
       "      <td>Россия</td>\n",
       "      <td>РостовнаДону</td>\n",
       "      <td>35-44</td>\n",
       "      <td>0.1-1</td>\n",
       "      <td>36+</td>\n",
       "      <td>10</td>\n",
       "      <td>сторонники</td>\n",
       "    </tr>\n",
       "    <tr>\n",
       "      <th>4</th>\n",
       "      <td>A004XT</td>\n",
       "      <td>1163</td>\n",
       "      <td>старый</td>\n",
       "      <td>24.0</td>\n",
       "      <td>мужчина</td>\n",
       "      <td>ANDROID</td>\n",
       "      <td>SMARTPHONE</td>\n",
       "      <td>Россия</td>\n",
       "      <td>Рязань</td>\n",
       "      <td>16-24</td>\n",
       "      <td>5-10</td>\n",
       "      <td>36+</td>\n",
       "      <td>10</td>\n",
       "      <td>сторонники</td>\n",
       "    </tr>\n",
       "    <tr>\n",
       "      <th>5</th>\n",
       "      <td>A005O0</td>\n",
       "      <td>5501</td>\n",
       "      <td>старый</td>\n",
       "      <td>42.0</td>\n",
       "      <td>женщина</td>\n",
       "      <td>ANDROID</td>\n",
       "      <td>SMARTPHONE</td>\n",
       "      <td>Россия</td>\n",
       "      <td>Омск</td>\n",
       "      <td>35-44</td>\n",
       "      <td>5-10</td>\n",
       "      <td>36+</td>\n",
       "      <td>6</td>\n",
       "      <td>критики</td>\n",
       "    </tr>\n",
       "    <tr>\n",
       "      <th>6</th>\n",
       "      <td>A0061R</td>\n",
       "      <td>1236</td>\n",
       "      <td>старый</td>\n",
       "      <td>45.0</td>\n",
       "      <td>мужчина</td>\n",
       "      <td>ANDROID</td>\n",
       "      <td>SMARTPHONE</td>\n",
       "      <td>Россия</td>\n",
       "      <td>Уфа</td>\n",
       "      <td>45-54</td>\n",
       "      <td>10-15</td>\n",
       "      <td>36+</td>\n",
       "      <td>10</td>\n",
       "      <td>сторонники</td>\n",
       "    </tr>\n",
       "    <tr>\n",
       "      <th>7</th>\n",
       "      <td>A009KS</td>\n",
       "      <td>313</td>\n",
       "      <td>новый</td>\n",
       "      <td>35.0</td>\n",
       "      <td>мужчина</td>\n",
       "      <td>ANDROID</td>\n",
       "      <td>SMARTPHONE</td>\n",
       "      <td>Россия</td>\n",
       "      <td>Москва</td>\n",
       "      <td>35-44</td>\n",
       "      <td>45-50</td>\n",
       "      <td>7-12</td>\n",
       "      <td>10</td>\n",
       "      <td>сторонники</td>\n",
       "    </tr>\n",
       "    <tr>\n",
       "      <th>8</th>\n",
       "      <td>A00AES</td>\n",
       "      <td>3238</td>\n",
       "      <td>старый</td>\n",
       "      <td>36.0</td>\n",
       "      <td>женщина</td>\n",
       "      <td>ANDROID</td>\n",
       "      <td>SMARTPHONE</td>\n",
       "      <td>Россия</td>\n",
       "      <td>СанктПетербург</td>\n",
       "      <td>35-44</td>\n",
       "      <td>1-5</td>\n",
       "      <td>36+</td>\n",
       "      <td>10</td>\n",
       "      <td>сторонники</td>\n",
       "    </tr>\n",
       "    <tr>\n",
       "      <th>9</th>\n",
       "      <td>A00F70</td>\n",
       "      <td>4479</td>\n",
       "      <td>старый</td>\n",
       "      <td>54.0</td>\n",
       "      <td>женщина</td>\n",
       "      <td>ANDROID</td>\n",
       "      <td>SMARTPHONE</td>\n",
       "      <td>Россия</td>\n",
       "      <td>Волгоград</td>\n",
       "      <td>45-54</td>\n",
       "      <td>15-20</td>\n",
       "      <td>36+</td>\n",
       "      <td>9</td>\n",
       "      <td>сторонники</td>\n",
       "    </tr>\n",
       "  </tbody>\n",
       "</table>\n",
       "</div>"
      ],
      "text/plain": [
       "  user_id  lt_day  is_new   age gender_segment  os_name cpe_type_name country  \\\n",
       "0  A001A2    2320  старый  45.0        женщина  ANDROID    SMARTPHONE  Россия   \n",
       "1  A001WF    2344  старый  53.0        мужчина  ANDROID    SMARTPHONE  Россия   \n",
       "2  A003Q7     467  старый  57.0        мужчина  ANDROID    SMARTPHONE  Россия   \n",
       "3  A004TB    4190  старый  44.0        женщина      IOS    SMARTPHONE  Россия   \n",
       "4  A004XT    1163  старый  24.0        мужчина  ANDROID    SMARTPHONE  Россия   \n",
       "5  A005O0    5501  старый  42.0        женщина  ANDROID    SMARTPHONE  Россия   \n",
       "6  A0061R    1236  старый  45.0        мужчина  ANDROID    SMARTPHONE  Россия   \n",
       "7  A009KS     313   новый  35.0        мужчина  ANDROID    SMARTPHONE  Россия   \n",
       "8  A00AES    3238  старый  36.0        женщина  ANDROID    SMARTPHONE  Россия   \n",
       "9  A00F70    4479  старый  54.0        женщина  ANDROID    SMARTPHONE  Россия   \n",
       "\n",
       "             city age_segment traffic_segment lifetime_segment  nps_score  \\\n",
       "0             Уфа       45-54             1-5              36+         10   \n",
       "1           Киров       45-54             1-5              36+         10   \n",
       "2          Москва       55-64           20-25            13-24         10   \n",
       "3    РостовнаДону       35-44           0.1-1              36+         10   \n",
       "4          Рязань       16-24            5-10              36+         10   \n",
       "5            Омск       35-44            5-10              36+          6   \n",
       "6             Уфа       45-54           10-15              36+         10   \n",
       "7          Москва       35-44           45-50             7-12         10   \n",
       "8  СанктПетербург       35-44             1-5              36+         10   \n",
       "9       Волгоград       45-54           15-20              36+          9   \n",
       "\n",
       "    nps_group  \n",
       "0  сторонники  \n",
       "1  сторонники  \n",
       "2  сторонники  \n",
       "3  сторонники  \n",
       "4  сторонники  \n",
       "5     критики  \n",
       "6  сторонники  \n",
       "7  сторонники  \n",
       "8  сторонники  \n",
       "9  сторонники  "
      ]
     },
     "execution_count": 18,
     "metadata": {},
     "output_type": "execute_result"
    }
   ],
   "source": [
    "query = \"\"\"\n",
    "    SELECT u.user_id,\n",
    "           u.lt_day,\n",
    "           CASE\n",
    "               WHEN u.lt_day <= 365 THEN 'новый'\n",
    "               WHEN u.lt_day > 365 THEN 'старый'\n",
    "           END AS is_new,\n",
    "           u.age,\n",
    "           CASE\n",
    "                WHEN u.gender_segment = 1 THEN 'женщина'\n",
    "                WHEN u.gender_segment = 0 THEN 'мужчина'\n",
    "                ELSE 'не указано'\n",
    "            END AS gender_segment,\n",
    "            u.os_name,\n",
    "            u.cpe_type_name,\n",
    "            l.country,\n",
    "            l.city,\n",
    "            SUBSTRING(aseg.title, 4) AS age_segment,\n",
    "            SUBSTRING(ts.title, 4) AS traffic_segment,\n",
    "            SUBSTRING(ls.title, 4) AS lifetime_segment,\n",
    "            u.nps_score,\n",
    "            CASE\n",
    "               WHEN u.nps_score BETWEEN 9 AND 10 THEN 'сторонники'\n",
    "               WHEN u.nps_score BETWEEN 7 AND 8 THEN 'нейтралы'\n",
    "               WHEN u.nps_score <= 6 THEN 'критики'\n",
    "            END AS nps_group\n",
    "    FROM user AS u\n",
    "    INNER JOIN location AS l ON u.location_id = l.location_id\n",
    "    INNER JOIN age_segment AS aseg ON u.age_gr_id = aseg.age_gr_id\n",
    "    INNER JOIN traffic_segment AS ts ON u.tr_gr_id = ts.tr_gr_id\n",
    "    INNER JOIN lifetime_segment AS ls ON u.lt_gr_id = ls.lt_gr_id\n",
    "    WHERE u.age IS NOT NULL AND u.lt_day > 0;\n",
    "    \"\"\"\n",
    "df = pd.read_sql(query, engine)\n",
    "df.head(10)"
   ]
  },
  {
   "cell_type": "markdown",
   "id": "638306a8",
   "metadata": {},
   "source": [
    "<div class=\"alert alert-success\" style=\"border-radius: 15px; box-shadow: 4px 4px 4px; border: 1px solid \">\n",
    "<h2> Комментарий ревьюера v_1: <a class=\"tocSkip\"> </h2>\n",
    "    \n",
    "✅ Выгружены соответствующие поля. Здорово, что используешь метод `SUBSTRING`. "
   ]
  },
  {
   "cell_type": "markdown",
   "id": "ac6f74c0",
   "metadata": {},
   "source": [
    "<div class=\"alert alert-warning\" style=\"border-radius: 15px; box-shadow: 4px 4px 4px; border: 1px solid \">\n",
    "<h2> Комментарий ревьюера v_1: <a class=\"tocSkip\"> </h2>\n",
    "    \n",
    "⚠️ Дополнительно можно проверить, что с данными всё ок. В частности, что значения в nps_score находятся в диапазоне от 1 до 10, что в поле city отсутствуют неявные дубликаты городов, а в age/age_segment нет отрицательных значений и т.д."
   ]
  },
  {
   "cell_type": "markdown",
   "id": "fe4c960f",
   "metadata": {},
   "source": [
    "**Получившуюся таблицу сохраним как CSV-файл.**"
   ]
  },
  {
   "cell_type": "code",
   "execution_count": 19,
   "id": "6f9d5d19",
   "metadata": {},
   "outputs": [],
   "source": [
    "df.to_csv('C:/Users/etols/Downloads/df.csv', index=False)"
   ]
  },
  {
   "cell_type": "markdown",
   "id": "9d980b46",
   "metadata": {},
   "source": [
    "## Создание дашборда в Tableau"
   ]
  },
  {
   "cell_type": "markdown",
   "id": "612e5709",
   "metadata": {},
   "source": [
    "Построим дашборд, который представит информацию о текущем уровне NPS среди клиентов и покажет, как этот уровень меняется в зависимости от пользовательских признаков. Из дашборда должно быть понятно, какие группы пользователей участвовали в опросе. Обратите внимание, что если пользователи какой-то группы преобладают, то это могло отразиться на общем уровне NPS.\n",
    "\n",
    "Используйте любые типы визуализаций, добавляйте любое количество графиков и страниц дашборда. Не забудьте применить фильтры — они сделают дашборд интерактивным и упростят менеджерам работу с данными опроса."
   ]
  },
  {
   "cell_type": "markdown",
   "id": "cc5675ca",
   "metadata": {},
   "source": [
    "<div class=\"alert alert-info\"  style=\"border-radius: 15px; box-shadow: 4px 4px 4px; border: 1px solid \">\n",
    "    \n",
    "<h2>Комментарий студента v_1: <a class=\"tocSkip\"> </h2>\n",
    "\n",
    "Откорректировала дашборд и презентацию."
   ]
  },
  {
   "cell_type": "markdown",
   "id": "9b78ea9c",
   "metadata": {},
   "source": [
    "Дашборд: https://public.tableau.com/views/2_17258234702480/sheet8?:language=en-US&:sid=&:redirect=auth&:display_count=n&:origin=viz_share_link"
   ]
  },
  {
   "cell_type": "markdown",
   "id": "5327e0e9",
   "metadata": {},
   "source": [
    "## Ответьте на вопросы с помощью дашборда"
   ]
  },
  {
   "cell_type": "markdown",
   "id": "7bc2ed98",
   "metadata": {},
   "source": [
    "Презентация: https://public.tableau.com/views/2_17258234702480/Story1?:language=en-US&:sid=&:redirect=auth&:display_count=n&:origin=viz_share_link"
   ]
  },
  {
   "cell_type": "markdown",
   "id": "2aed92e7",
   "metadata": {},
   "source": [
    "<div class=\"alert alert-success\" style=\"border-radius: 15px; box-shadow: 4px 4px 4px; border: 1px solid \">\n",
    "<h2> Комментарий ревьюера v_1: <a class=\"tocSkip\"> </h2>  \n",
    "    \n",
    "✅ Сделано хорошо:\n",
    "    \n",
    "* на вкладке расположено несколько графиков\n",
    "    \n",
    "* есть заголовки визуализаций и названия дашбордов\n",
    "    \n",
    "* добавлено описание дашбордов\n",
    "\n",
    "* есть подписи на визуализациях\n",
    "   \n",
    "* подписи во всплывающих подсказках визуализаций на русском языке\n",
    "   \n",
    "* представлены необходимые графики по распределению участников\n",
    "    \n",
    "* даны ответы на все вопросы по распределению\n",
    "   "
   ]
  },
  {
   "cell_type": "markdown",
   "id": "b11f324f",
   "metadata": {},
   "source": [
    "<div class=\"alert alert-block alert-danger\" style=\"border-radius: 15px; box-shadow: 4px 4px 4px; border: 1px solid \">\n",
    "<h2> Комментарий ревьюера v_1: <a class=\"tocSkip\"></h2>\n",
    "    \n",
    "* построить график NPS по городам, т.к. этот параметр упоминается в вопросах (желательно представить все города, например, на линейчатой (с горизонтальными столбцами) диаграмме, в таблице или географической карте) \n",
    "   \n",
    "Ответы на вопросы: \n",
    " \n",
    "* в каком городе (или городах) NPS самый низкий и самый высокий (дополнительно можно еще добавить, есть ли связь между количеством участников в городах и NPS)?"
   ]
  },
  {
   "cell_type": "markdown",
   "id": "4ff9bb34",
   "metadata": {},
   "source": [
    "<div class=\"alert alert-warning\" style=\"border-radius: 15px; box-shadow: 4px 4px 4px; border: 1px solid \">\n",
    "<h2> Комментарий ревьюера v_1: <a class=\"tocSkip\"> </h2>\n",
    "\n",
    "⚠️ Что можно лучше:\n",
    "    \n",
    "* дашборд со сторонниками необязателен; можно ограничиться фильтром по группам респондентов (сторонники/нейтралы/критики) на дашборде с распределением (его следует применить ко всем визуализациям по распределению участников)\n",
    "    \n",
    "* добавить для пользователей лаконичное описание о том, что визуализация позволяет отфильтровать данные при нажатии на один из сегментов, например, после названия визуализации (серым цветом и шрифтом поменьше) или в подзаголовке, т.к. наличие Action неочевидно без текстового упоминания о нем\n",
    " \n",
    "* добавить распределение участников опроса по (создав еще один дашборд или параметр, который позволяет выбирать визуализацию): \n",
    "    * трафику\n",
    "    \n",
    "* во всплывающей подсказке графиков с распределением указать одновременно количество респондентов и их долю (в тултип добавить соответствующую меру и через Insert в тултипе - необходимое значение)\n",
    "\n",
    "* добавить графики NPS по:\n",
    "    * устройству\n",
    "    * операционной системе \n",
    "    \n",
    "* в качестве альтернативы можно построить единую таблицу NPS (highlight table) по трем параметрам (пол, возраст, старые/новые клиенты или lifetime); она позволит точнее определить портрет лояльного пользователя\n",
    "  \n",
    "Ответы на вопросы: \n",
    "   \n",
    "* \"Как можно описать клиентов, которые относятся к группе cторонников (англ. promoters)?\" - совпадают ли профили всех пользователей и профили сторонников друг с другом, имеют ли группы пользователей среди сторонников примерно тоже самое соотношение, что и на визуализациях со всеми пользователиями?"
   ]
  },
  {
   "cell_type": "markdown",
   "id": "e4621ed5",
   "metadata": {},
   "source": [
    "<div style=\"border:solid lightblue 3px; background:#f7faf8; padding: 20px\">\n",
    "<span style=\"color:darkblue\">Комментарий ревьюера v_1:</span>\n",
    "    \n",
    "По распределению респондентов работа очень хорошо выполнена, но также нужно дополнить анализ NPS. Жду проект)"
   ]
  },
  {
   "cell_type": "markdown",
   "id": "6ecc73cf",
   "metadata": {},
   "source": [
    "<div class=\"alert alert-info\"  style=\"border-radius: 15px; box-shadow: 4px 4px 4px; border: 1px solid \">\n",
    "    \n",
    "<h2>Комментарий студента v_1: <a class=\"tocSkip\"> </h2>\n",
    "\n",
    "Дополнила анализ по твоим комментариям, жду проверки :)"
   ]
  }
 ],
 "metadata": {
  "ExecuteTimeLog": [
   {
    "duration": 599,
    "start_time": "2024-09-10T12:36:16.207Z"
   },
   {
    "duration": 75,
    "start_time": "2024-09-10T12:36:16.808Z"
   },
   {
    "duration": 581,
    "start_time": "2024-09-10T12:36:16.885Z"
   },
   {
    "duration": 553,
    "start_time": "2024-09-10T12:36:17.468Z"
   },
   {
    "duration": 539,
    "start_time": "2024-09-10T12:36:18.023Z"
   },
   {
    "duration": 556,
    "start_time": "2024-09-10T12:36:18.563Z"
   },
   {
    "duration": 541,
    "start_time": "2024-09-10T12:36:19.121Z"
   },
   {
    "duration": 561,
    "start_time": "2024-09-10T12:36:19.664Z"
   },
   {
    "duration": 549,
    "start_time": "2024-09-10T12:36:20.227Z"
   },
   {
    "duration": 663,
    "start_time": "2024-09-10T12:36:20.778Z"
   },
   {
    "duration": 653,
    "start_time": "2024-09-10T12:36:21.442Z"
   },
   {
    "duration": 5945,
    "start_time": "2024-09-10T12:36:22.097Z"
   },
   {
    "duration": 585,
    "start_time": "2024-09-10T12:36:28.044Z"
   },
   {
    "duration": 111,
    "start_time": "2024-09-10T12:36:28.632Z"
   },
   {
    "duration": 826,
    "start_time": "2024-09-10T12:58:21.427Z"
   },
   {
    "duration": 580,
    "start_time": "2024-09-10T13:10:01.309Z"
   },
   {
    "duration": 66,
    "start_time": "2024-09-10T13:10:01.891Z"
   },
   {
    "duration": 546,
    "start_time": "2024-09-10T13:10:01.959Z"
   },
   {
    "duration": 565,
    "start_time": "2024-09-10T13:10:02.507Z"
   },
   {
    "duration": 541,
    "start_time": "2024-09-10T13:10:03.075Z"
   },
   {
    "duration": 570,
    "start_time": "2024-09-10T13:10:03.618Z"
   },
   {
    "duration": 530,
    "start_time": "2024-09-10T13:10:04.191Z"
   },
   {
    "duration": 563,
    "start_time": "2024-09-10T13:10:04.723Z"
   },
   {
    "duration": 536,
    "start_time": "2024-09-10T13:10:05.288Z"
   },
   {
    "duration": 585,
    "start_time": "2024-09-10T13:10:05.826Z"
   },
   {
    "duration": 659,
    "start_time": "2024-09-10T13:10:06.413Z"
   },
   {
    "duration": 6009,
    "start_time": "2024-09-10T13:10:07.074Z"
   },
   {
    "duration": 608,
    "start_time": "2024-09-10T13:10:13.085Z"
   },
   {
    "duration": 127,
    "start_time": "2024-09-10T13:10:13.696Z"
   },
   {
    "duration": 587,
    "start_time": "2024-09-10T15:29:03.748Z"
   },
   {
    "duration": 79,
    "start_time": "2024-09-10T15:29:05.708Z"
   },
   {
    "duration": 630,
    "start_time": "2024-09-10T15:29:07.363Z"
   },
   {
    "duration": 576,
    "start_time": "2024-09-10T15:29:08.039Z"
   },
   {
    "duration": 582,
    "start_time": "2024-09-10T15:29:09.695Z"
   },
   {
    "duration": 582,
    "start_time": "2024-09-10T15:29:11.092Z"
   },
   {
    "duration": 594,
    "start_time": "2024-09-10T15:29:11.678Z"
   },
   {
    "duration": 565,
    "start_time": "2024-09-10T15:29:12.275Z"
   },
   {
    "duration": 596,
    "start_time": "2024-09-10T15:29:13.148Z"
   },
   {
    "duration": 707,
    "start_time": "2024-09-10T15:29:18.032Z"
   },
   {
    "duration": 706,
    "start_time": "2024-09-10T15:29:21.955Z"
   },
   {
    "duration": 6471,
    "start_time": "2024-09-10T15:29:26.224Z"
   },
   {
    "duration": 733,
    "start_time": "2024-09-10T15:31:14.516Z"
   },
   {
    "duration": 6037,
    "start_time": "2024-09-10T15:31:27.588Z"
   },
   {
    "duration": 692,
    "start_time": "2024-09-10T15:31:36.052Z"
   },
   {
    "duration": 634,
    "start_time": "2024-09-10T15:32:08.107Z"
   },
   {
    "duration": 668,
    "start_time": "2024-09-10T15:32:29.219Z"
   },
   {
    "duration": 644,
    "start_time": "2024-09-10T15:32:38.528Z"
   },
   {
    "duration": 574,
    "start_time": "2024-09-10T15:34:18.252Z"
   },
   {
    "duration": 580,
    "start_time": "2024-09-10T15:34:30.199Z"
   },
   {
    "duration": 574,
    "start_time": "2024-09-10T15:37:27.016Z"
   },
   {
    "duration": 576,
    "start_time": "2024-09-10T15:37:35.719Z"
   },
   {
    "duration": 575,
    "start_time": "2024-09-10T15:40:07.860Z"
   },
   {
    "duration": 583,
    "start_time": "2024-09-10T15:44:46.897Z"
   },
   {
    "duration": 575,
    "start_time": "2024-09-10T15:44:52.004Z"
   },
   {
    "duration": 575,
    "start_time": "2024-09-10T15:59:57.992Z"
   },
   {
    "duration": 578,
    "start_time": "2024-09-10T16:00:09.472Z"
   },
   {
    "duration": 574,
    "start_time": "2024-09-10T16:00:21.240Z"
   },
   {
    "duration": 578,
    "start_time": "2024-09-10T16:00:31.200Z"
   },
   {
    "duration": 569,
    "start_time": "2024-09-10T16:01:19.091Z"
   },
   {
    "duration": 577,
    "start_time": "2024-09-10T16:05:28.552Z"
   },
   {
    "duration": 579,
    "start_time": "2024-09-10T16:05:44.172Z"
   },
   {
    "duration": 581,
    "start_time": "2024-09-10T16:06:12.688Z"
   },
   {
    "duration": 577,
    "start_time": "2024-09-10T16:06:22.228Z"
   },
   {
    "duration": 590,
    "start_time": "2024-09-10T16:07:06.052Z"
   },
   {
    "duration": 592,
    "start_time": "2024-09-10T16:07:57.488Z"
   },
   {
    "duration": 582,
    "start_time": "2024-09-10T16:08:06.536Z"
   },
   {
    "duration": 944,
    "start_time": "2024-09-10T16:09:02.960Z"
   },
   {
    "duration": 655,
    "start_time": "2024-09-10T16:10:08.976Z"
   },
   {
    "duration": 635,
    "start_time": "2024-09-10T16:11:42.192Z"
   },
   {
    "duration": 651,
    "start_time": "2024-09-10T16:12:38.940Z"
   },
   {
    "duration": 613,
    "start_time": "2024-09-10T16:12:56.092Z"
   },
   {
    "duration": 621,
    "start_time": "2024-09-10T16:13:13.288Z"
   },
   {
    "duration": 626,
    "start_time": "2024-09-10T16:13:15.132Z"
   },
   {
    "duration": 6499,
    "start_time": "2024-09-10T16:14:35.636Z"
   },
   {
    "duration": 6119,
    "start_time": "2024-09-10T16:14:47.892Z"
   },
   {
    "duration": 626,
    "start_time": "2024-09-10T16:15:30.312Z"
   },
   {
    "duration": 82,
    "start_time": "2024-09-10T16:15:58.004Z"
   },
   {
    "duration": 4,
    "start_time": "2024-09-10T16:16:06.927Z"
   },
   {
    "duration": 621,
    "start_time": "2024-09-10T16:16:50.729Z"
   },
   {
    "duration": 6147,
    "start_time": "2024-09-10T16:16:59.269Z"
   },
   {
    "duration": 622,
    "start_time": "2024-09-10T16:17:05.418Z"
   },
   {
    "duration": 486,
    "start_time": "2024-09-11T13:42:52.717Z"
   },
   {
    "duration": 71,
    "start_time": "2024-09-11T13:42:54.204Z"
   },
   {
    "duration": 743,
    "start_time": "2024-09-11T13:42:55.184Z"
   },
   {
    "duration": 664,
    "start_time": "2024-09-11T13:42:56.701Z"
   },
   {
    "duration": 644,
    "start_time": "2024-09-11T13:42:58.204Z"
   },
   {
    "duration": 645,
    "start_time": "2024-09-11T13:42:59.585Z"
   },
   {
    "duration": 668,
    "start_time": "2024-09-11T13:43:01.004Z"
   },
   {
    "duration": 666,
    "start_time": "2024-09-11T13:43:02.460Z"
   },
   {
    "duration": 698,
    "start_time": "2024-09-11T13:43:09.105Z"
   },
   {
    "duration": 1866,
    "start_time": "2024-09-11T13:43:13.340Z"
   },
   {
    "duration": 738,
    "start_time": "2024-09-11T13:43:16.968Z"
   },
   {
    "duration": 5511,
    "start_time": "2024-09-11T13:43:23.797Z"
   },
   {
    "duration": 671,
    "start_time": "2024-09-11T13:43:32.660Z"
   },
   {
    "duration": 919,
    "start_time": "2024-09-11T13:52:50.343Z"
   },
   {
    "duration": 7,
    "start_time": "2024-09-11T13:52:59.457Z"
   },
   {
    "duration": 116,
    "start_time": "2024-09-11T13:53:20.189Z"
   },
   {
    "duration": 13,
    "start_time": "2024-09-11T13:53:54.381Z"
   },
   {
    "duration": 16,
    "start_time": "2024-09-11T13:54:01.504Z"
   },
   {
    "duration": 15,
    "start_time": "2024-09-11T13:54:05.284Z"
   },
   {
    "duration": 673,
    "start_time": "2024-09-11T13:54:41.412Z"
   },
   {
    "duration": 669,
    "start_time": "2024-09-11T13:56:05.141Z"
   },
   {
    "duration": 676,
    "start_time": "2024-09-11T14:10:26.961Z"
   },
   {
    "duration": 689,
    "start_time": "2024-09-11T14:12:07.453Z"
   },
   {
    "duration": 664,
    "start_time": "2024-09-11T14:13:04.501Z"
   },
   {
    "duration": 705,
    "start_time": "2024-09-11T14:16:00.065Z"
   },
   {
    "duration": 800,
    "start_time": "2024-09-11T14:16:08.502Z"
   },
   {
    "duration": 785,
    "start_time": "2024-09-11T14:17:05.389Z"
   },
   {
    "duration": 639,
    "start_time": "2024-09-11T14:17:55.625Z"
   },
   {
    "duration": 638,
    "start_time": "2024-09-11T14:19:05.761Z"
   },
   {
    "duration": 55,
    "start_time": "2024-09-11T14:19:49.101Z"
   },
   {
    "duration": 638,
    "start_time": "2024-09-11T14:20:21.133Z"
   },
   {
    "duration": 638,
    "start_time": "2024-09-11T14:20:33.033Z"
   },
   {
    "duration": 657,
    "start_time": "2024-09-11T14:21:41.899Z"
   },
   {
    "duration": 5447,
    "start_time": "2024-09-11T14:23:27.545Z"
   },
   {
    "duration": 669,
    "start_time": "2024-09-11T14:26:41.361Z"
   },
   {
    "duration": 691,
    "start_time": "2024-09-11T14:26:42.032Z"
   },
   {
    "duration": 668,
    "start_time": "2024-09-11T14:26:43.981Z"
   },
   {
    "duration": 780,
    "start_time": "2024-09-11T14:26:44.697Z"
   },
   {
    "duration": 659,
    "start_time": "2024-09-11T14:26:45.992Z"
   },
   {
    "duration": 660,
    "start_time": "2024-09-11T14:26:46.837Z"
   },
   {
    "duration": 5523,
    "start_time": "2024-09-11T14:26:49.317Z"
   },
   {
    "duration": 37,
    "start_time": "2024-09-11T14:27:02.337Z"
   },
   {
    "duration": 41,
    "start_time": "2024-09-11T14:27:12.412Z"
   },
   {
    "duration": 35,
    "start_time": "2024-09-11T14:28:37.613Z"
   },
   {
    "duration": 40,
    "start_time": "2024-09-11T14:29:05.629Z"
   }
  ],
  "kernelspec": {
   "display_name": "Python 3 (ipykernel)",
   "language": "python",
   "name": "python3"
  },
  "language_info": {
   "codemirror_mode": {
    "name": "ipython",
    "version": 3
   },
   "file_extension": ".py",
   "mimetype": "text/x-python",
   "name": "python",
   "nbconvert_exporter": "python",
   "pygments_lexer": "ipython3",
   "version": "3.11.5"
  },
  "toc": {
   "base_numbering": 1,
   "nav_menu": {},
   "number_sections": true,
   "sideBar": true,
   "skip_h1_title": true,
   "title_cell": "Table of Contents",
   "title_sidebar": "Contents",
   "toc_cell": false,
   "toc_position": {
    "height": "calc(100% - 180px)",
    "left": "10px",
    "top": "150px",
    "width": "332.986px"
   },
   "toc_section_display": true,
   "toc_window_display": true
  }
 },
 "nbformat": 4,
 "nbformat_minor": 5
}
